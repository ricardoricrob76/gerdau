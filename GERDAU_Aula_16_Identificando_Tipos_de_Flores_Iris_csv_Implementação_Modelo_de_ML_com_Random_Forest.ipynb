{
  "nbformat": 4,
  "nbformat_minor": 0,
  "metadata": {
    "kernelspec": {
      "display_name": "Python 3",
      "language": "python",
      "name": "python3"
    },
    "language_info": {
      "codemirror_mode": {
        "name": "ipython",
        "version": 3
      },
      "file_extension": ".py",
      "mimetype": "text/x-python",
      "name": "python",
      "nbconvert_exporter": "python",
      "pygments_lexer": "ipython3",
      "version": "3.7.6"
    },
    "colab": {
      "name": "GERDAU - Aula 16 - Identificando Tipos de Flores Iris.csv  - Implementação Modelo de ML com Random Forest.ipynb",
      "provenance": [],
      "collapsed_sections": [],
      "include_colab_link": true
    }
  },
  "cells": [
    {
      "cell_type": "markdown",
      "metadata": {
        "id": "view-in-github",
        "colab_type": "text"
      },
      "source": [
        "<a href=\"https://colab.research.google.com/github/ricardoricrob76/gerdau/blob/main/GERDAU_Aula_16_Identificando_Tipos_de_Flores_Iris_csv_Implementa%C3%A7%C3%A3o_Modelo_de_ML_com_Random_Forest.ipynb\" target=\"_parent\"><img src=\"https://colab.research.google.com/assets/colab-badge.svg\" alt=\"Open In Colab\"/></a>"
      ]
    },
    {
      "cell_type": "code",
      "metadata": {
        "id": "V1NLqiyB4gyN"
      },
      "source": [
        "# GERDAU - Treinamento InCompany\n",
        "# Autor:  Profº - Ricardo Roberto de Lima - FABWORK\n",
        "# Ciência de Dados com Python + Pandas, Numpy, SkLearning. Diabetes\n",
        "# Machine Learning - Aula 15 - Modelos Supervisionados - Algoritmo Random Forest (Florestas de Árvores de Decisão)\n",
        "# Gerando Modelo de Machine Learning (classificação)\n",
        "# Domínio: Pessoas com Identificando os Tipos de Flores - Virginica, Versicolor, outra."
      ],
      "execution_count": 6,
      "outputs": []
    },
    {
      "cell_type": "code",
      "metadata": {
        "id": "YKoMYBow4gyS"
      },
      "source": [
        "#Conjunto de importacoes\n",
        "import numpy as np\n",
        "import pandas as pd\n",
        "import matplotlib.pyplot as plt\n",
        "from sklearn.naive_bayes import MultinomialNB\n",
        "from sklearn.naive_bayes import GaussianNB\n",
        "from sklearn.metrics import accuracy_score\n",
        "from sklearn.model_selection import train_test_split"
      ],
      "execution_count": 7,
      "outputs": []
    },
    {
      "cell_type": "code",
      "metadata": {
        "colab": {
          "base_uri": "https://localhost:8080/",
          "height": 34
        },
        "id": "pS0wCytb4gyT",
        "outputId": "7809a08e-1065-47c0-8772-aee15c779907"
      },
      "source": [
        "# Estrutura Inicial para um Projeto de Machine Learning.\n",
        "from IPython.display import Image\n",
        "Image('Workflow.png')"
      ],
      "execution_count": 8,
      "outputs": [
        {
          "output_type": "execute_result",
          "data": {
            "image/png": "Workflow.png",
            "text/plain": [
              "<IPython.core.display.Image object>"
            ]
          },
          "metadata": {},
          "execution_count": 8
        }
      ]
    },
    {
      "cell_type": "code",
      "metadata": {
        "id": "_P6hj8ya4gyU"
      },
      "source": [
        "# Adaptar para o Ambiente da GERDAU.\n",
        "# import awswrangler as wr\n",
        "\n",
        "# import boto3\n",
        "# boto3.setup_default_session(region_name=\"us-east-2\")\n",
        "\n",
        "df_iris = pd.read_csv(\"iris.csv\")\n",
        "\n",
        "# Criar um Objeto do tipo DataFrame no Ambiente Big Data - Gerdau\n",
        "# df_iris=wr.s3.read_csv('s3://gerdau-analytics/gdata/datascience/iris.csv')\n",
        "\n",
        "\n",
        "#Carrega o dataset com os dados para o treinamento e validacao\n",
        "# df_crioterapia_treino = pd.read_csv(\"dados_cryotherapy.csv\", encoding=\"utf-8\")"
      ],
      "execution_count": 9,
      "outputs": []
    },
    {
      "cell_type": "code",
      "metadata": {
        "colab": {
          "base_uri": "https://localhost:8080/",
          "height": 295
        },
        "id": "GaD3X8Xq4gyV",
        "outputId": "903766ff-5db2-461c-f03b-080049b8f850"
      },
      "source": [
        "df_iris.describe()"
      ],
      "execution_count": 10,
      "outputs": [
        {
          "output_type": "execute_result",
          "data": {
            "text/html": [
              "<div>\n",
              "<style scoped>\n",
              "    .dataframe tbody tr th:only-of-type {\n",
              "        vertical-align: middle;\n",
              "    }\n",
              "\n",
              "    .dataframe tbody tr th {\n",
              "        vertical-align: top;\n",
              "    }\n",
              "\n",
              "    .dataframe thead th {\n",
              "        text-align: right;\n",
              "    }\n",
              "</style>\n",
              "<table border=\"1\" class=\"dataframe\">\n",
              "  <thead>\n",
              "    <tr style=\"text-align: right;\">\n",
              "      <th></th>\n",
              "      <th>sepal_length</th>\n",
              "      <th>sepal_width</th>\n",
              "      <th>petal_length</th>\n",
              "      <th>petal_width</th>\n",
              "    </tr>\n",
              "  </thead>\n",
              "  <tbody>\n",
              "    <tr>\n",
              "      <th>count</th>\n",
              "      <td>150.000000</td>\n",
              "      <td>150.000000</td>\n",
              "      <td>150.000000</td>\n",
              "      <td>150.000000</td>\n",
              "    </tr>\n",
              "    <tr>\n",
              "      <th>mean</th>\n",
              "      <td>5.843333</td>\n",
              "      <td>3.054000</td>\n",
              "      <td>3.758667</td>\n",
              "      <td>1.198667</td>\n",
              "    </tr>\n",
              "    <tr>\n",
              "      <th>std</th>\n",
              "      <td>0.828066</td>\n",
              "      <td>0.433594</td>\n",
              "      <td>1.764420</td>\n",
              "      <td>0.763161</td>\n",
              "    </tr>\n",
              "    <tr>\n",
              "      <th>min</th>\n",
              "      <td>4.300000</td>\n",
              "      <td>2.000000</td>\n",
              "      <td>1.000000</td>\n",
              "      <td>0.100000</td>\n",
              "    </tr>\n",
              "    <tr>\n",
              "      <th>25%</th>\n",
              "      <td>5.100000</td>\n",
              "      <td>2.800000</td>\n",
              "      <td>1.600000</td>\n",
              "      <td>0.300000</td>\n",
              "    </tr>\n",
              "    <tr>\n",
              "      <th>50%</th>\n",
              "      <td>5.800000</td>\n",
              "      <td>3.000000</td>\n",
              "      <td>4.350000</td>\n",
              "      <td>1.300000</td>\n",
              "    </tr>\n",
              "    <tr>\n",
              "      <th>75%</th>\n",
              "      <td>6.400000</td>\n",
              "      <td>3.300000</td>\n",
              "      <td>5.100000</td>\n",
              "      <td>1.800000</td>\n",
              "    </tr>\n",
              "    <tr>\n",
              "      <th>max</th>\n",
              "      <td>7.900000</td>\n",
              "      <td>4.400000</td>\n",
              "      <td>6.900000</td>\n",
              "      <td>2.500000</td>\n",
              "    </tr>\n",
              "  </tbody>\n",
              "</table>\n",
              "</div>"
            ],
            "text/plain": [
              "       sepal_length  sepal_width  petal_length  petal_width\n",
              "count    150.000000   150.000000    150.000000   150.000000\n",
              "mean       5.843333     3.054000      3.758667     1.198667\n",
              "std        0.828066     0.433594      1.764420     0.763161\n",
              "min        4.300000     2.000000      1.000000     0.100000\n",
              "25%        5.100000     2.800000      1.600000     0.300000\n",
              "50%        5.800000     3.000000      4.350000     1.300000\n",
              "75%        6.400000     3.300000      5.100000     1.800000\n",
              "max        7.900000     4.400000      6.900000     2.500000"
            ]
          },
          "metadata": {},
          "execution_count": 10
        }
      ]
    },
    {
      "cell_type": "code",
      "metadata": {
        "colab": {
          "base_uri": "https://localhost:8080/"
        },
        "id": "ApgVahfR4gyV",
        "outputId": "3806f60f-c5ba-47fb-8671-647c4fb2b7c9"
      },
      "source": [
        "# Verificando o formato dos dados\n",
        "df_iris.shape"
      ],
      "execution_count": 11,
      "outputs": [
        {
          "output_type": "execute_result",
          "data": {
            "text/plain": [
              "(150, 5)"
            ]
          },
          "metadata": {},
          "execution_count": 11
        }
      ]
    },
    {
      "cell_type": "code",
      "metadata": {
        "id": "GpjRczQt4gyW"
      },
      "source": [
        "#Definição dos atributos que deverao ser treinados para gerar o modelo de classificacao\n",
        "data_treino = np.array(df_iris[['sepal_length', 'sepal_width', 'petal_length', 'petal_width']])\n",
        "#Definição do atributo de classificacao\n",
        "data_classif = np.array(df_iris['species'])"
      ],
      "execution_count": 12,
      "outputs": []
    },
    {
      "cell_type": "code",
      "metadata": {
        "colab": {
          "base_uri": "https://localhost:8080/",
          "height": 203
        },
        "id": "umSYcgJg4gyX",
        "outputId": "def4f181-95ff-41a3-d0d9-2ae46048e301"
      },
      "source": [
        "# Verificando as primeiras linhas do dataset\n",
        "df_iris.head(5)"
      ],
      "execution_count": 13,
      "outputs": [
        {
          "output_type": "execute_result",
          "data": {
            "text/html": [
              "<div>\n",
              "<style scoped>\n",
              "    .dataframe tbody tr th:only-of-type {\n",
              "        vertical-align: middle;\n",
              "    }\n",
              "\n",
              "    .dataframe tbody tr th {\n",
              "        vertical-align: top;\n",
              "    }\n",
              "\n",
              "    .dataframe thead th {\n",
              "        text-align: right;\n",
              "    }\n",
              "</style>\n",
              "<table border=\"1\" class=\"dataframe\">\n",
              "  <thead>\n",
              "    <tr style=\"text-align: right;\">\n",
              "      <th></th>\n",
              "      <th>sepal_length</th>\n",
              "      <th>sepal_width</th>\n",
              "      <th>petal_length</th>\n",
              "      <th>petal_width</th>\n",
              "      <th>species</th>\n",
              "    </tr>\n",
              "  </thead>\n",
              "  <tbody>\n",
              "    <tr>\n",
              "      <th>0</th>\n",
              "      <td>5.1</td>\n",
              "      <td>3.5</td>\n",
              "      <td>1.4</td>\n",
              "      <td>0.2</td>\n",
              "      <td>setosa</td>\n",
              "    </tr>\n",
              "    <tr>\n",
              "      <th>1</th>\n",
              "      <td>4.9</td>\n",
              "      <td>3.0</td>\n",
              "      <td>1.4</td>\n",
              "      <td>0.2</td>\n",
              "      <td>setosa</td>\n",
              "    </tr>\n",
              "    <tr>\n",
              "      <th>2</th>\n",
              "      <td>4.7</td>\n",
              "      <td>3.2</td>\n",
              "      <td>1.3</td>\n",
              "      <td>0.2</td>\n",
              "      <td>setosa</td>\n",
              "    </tr>\n",
              "    <tr>\n",
              "      <th>3</th>\n",
              "      <td>4.6</td>\n",
              "      <td>3.1</td>\n",
              "      <td>1.5</td>\n",
              "      <td>0.2</td>\n",
              "      <td>setosa</td>\n",
              "    </tr>\n",
              "    <tr>\n",
              "      <th>4</th>\n",
              "      <td>5.0</td>\n",
              "      <td>3.6</td>\n",
              "      <td>1.4</td>\n",
              "      <td>0.2</td>\n",
              "      <td>setosa</td>\n",
              "    </tr>\n",
              "  </tbody>\n",
              "</table>\n",
              "</div>"
            ],
            "text/plain": [
              "   sepal_length  sepal_width  petal_length  petal_width species\n",
              "0           5.1          3.5           1.4          0.2  setosa\n",
              "1           4.9          3.0           1.4          0.2  setosa\n",
              "2           4.7          3.2           1.3          0.2  setosa\n",
              "3           4.6          3.1           1.5          0.2  setosa\n",
              "4           5.0          3.6           1.4          0.2  setosa"
            ]
          },
          "metadata": {},
          "execution_count": 13
        }
      ]
    },
    {
      "cell_type": "code",
      "metadata": {
        "colab": {
          "base_uri": "https://localhost:8080/",
          "height": 203
        },
        "id": "VM8a-r1i4gyX",
        "outputId": "7a489db9-bf9c-4643-cfeb-ae1efa7d5524"
      },
      "source": [
        "# Verificando as ultimas linhas do dataset\n",
        "df_iris.tail(5)"
      ],
      "execution_count": 14,
      "outputs": [
        {
          "output_type": "execute_result",
          "data": {
            "text/html": [
              "<div>\n",
              "<style scoped>\n",
              "    .dataframe tbody tr th:only-of-type {\n",
              "        vertical-align: middle;\n",
              "    }\n",
              "\n",
              "    .dataframe tbody tr th {\n",
              "        vertical-align: top;\n",
              "    }\n",
              "\n",
              "    .dataframe thead th {\n",
              "        text-align: right;\n",
              "    }\n",
              "</style>\n",
              "<table border=\"1\" class=\"dataframe\">\n",
              "  <thead>\n",
              "    <tr style=\"text-align: right;\">\n",
              "      <th></th>\n",
              "      <th>sepal_length</th>\n",
              "      <th>sepal_width</th>\n",
              "      <th>petal_length</th>\n",
              "      <th>petal_width</th>\n",
              "      <th>species</th>\n",
              "    </tr>\n",
              "  </thead>\n",
              "  <tbody>\n",
              "    <tr>\n",
              "      <th>145</th>\n",
              "      <td>6.7</td>\n",
              "      <td>3.0</td>\n",
              "      <td>5.2</td>\n",
              "      <td>2.3</td>\n",
              "      <td>virginica</td>\n",
              "    </tr>\n",
              "    <tr>\n",
              "      <th>146</th>\n",
              "      <td>6.3</td>\n",
              "      <td>2.5</td>\n",
              "      <td>5.0</td>\n",
              "      <td>1.9</td>\n",
              "      <td>virginica</td>\n",
              "    </tr>\n",
              "    <tr>\n",
              "      <th>147</th>\n",
              "      <td>6.5</td>\n",
              "      <td>3.0</td>\n",
              "      <td>5.2</td>\n",
              "      <td>2.0</td>\n",
              "      <td>virginica</td>\n",
              "    </tr>\n",
              "    <tr>\n",
              "      <th>148</th>\n",
              "      <td>6.2</td>\n",
              "      <td>3.4</td>\n",
              "      <td>5.4</td>\n",
              "      <td>2.3</td>\n",
              "      <td>virginica</td>\n",
              "    </tr>\n",
              "    <tr>\n",
              "      <th>149</th>\n",
              "      <td>5.9</td>\n",
              "      <td>3.0</td>\n",
              "      <td>5.1</td>\n",
              "      <td>1.8</td>\n",
              "      <td>virginica</td>\n",
              "    </tr>\n",
              "  </tbody>\n",
              "</table>\n",
              "</div>"
            ],
            "text/plain": [
              "     sepal_length  sepal_width  petal_length  petal_width    species\n",
              "145           6.7          3.0           5.2          2.3  virginica\n",
              "146           6.3          2.5           5.0          1.9  virginica\n",
              "147           6.5          3.0           5.2          2.0  virginica\n",
              "148           6.2          3.4           5.4          2.3  virginica\n",
              "149           5.9          3.0           5.1          1.8  virginica"
            ]
          },
          "metadata": {},
          "execution_count": 14
        }
      ]
    },
    {
      "cell_type": "code",
      "metadata": {
        "id": "AubcBR2L4gyY"
      },
      "source": [
        "# Identificando a correlação entre as variáveis\n",
        "# Correlação não implica causalidade\n",
        "def plot_corr(df_iris, size=35):\n",
        "    corr = df_iris.corr()    \n",
        "    fig, ax = plt.subplots(figsize = (size, size))\n",
        "    ax.matshow(corr)  \n",
        "    plt.xticks(range(len(corr.columns)), corr.columns) \n",
        "    plt.yticks(range(len(corr.columns)), corr.columns) "
      ],
      "execution_count": 15,
      "outputs": []
    },
    {
      "cell_type": "code",
      "metadata": {
        "colab": {
          "base_uri": "https://localhost:8080/",
          "height": 670
        },
        "id": "i6JbClwS4gyZ",
        "outputId": "550ae166-c4f8-4ed3-b9ec-68bc6712b240"
      },
      "source": [
        "# Criando o gráfico - Matriz de Correlação..\n",
        "plot_corr(df_iris)"
      ],
      "execution_count": 16,
      "outputs": [
        {
          "output_type": "display_data",
          "data": {
            "image/png": "[encoded data removed]",
            "text/plain": [
              "<Figure size 2520x2520 with 1 Axes>"
            ]
          },
          "metadata": {
            "needs_background": "light"
          }
        }
      ]
    },
    {
      "cell_type": "code",
      "metadata": {
        "id": "G2LPIHV24gyZ"
      },
      "source": [
        "# Spliting = 70% para dados de treino e 30% para dados de teste"
      ],
      "execution_count": 17,
      "outputs": []
    },
    {
      "cell_type": "code",
      "metadata": {
        "colab": {
          "base_uri": "https://localhost:8080/",
          "height": 34
        },
        "id": "8CP15jY94gya",
        "outputId": "e26db57c-1576-4185-bcef-c61acc471a59"
      },
      "source": [
        "from IPython.display import Image\n",
        "Image('Treinamento.png')"
      ],
      "execution_count": 18,
      "outputs": [
        {
          "output_type": "execute_result",
          "data": {
            "image/png": "Treinamento.png",
            "text/plain": [
              "<IPython.core.display.Image object>"
            ]
          },
          "metadata": {},
          "execution_count": 18
        }
      ]
    },
    {
      "cell_type": "code",
      "metadata": {
        "id": "Z5RX05zE4gya"
      },
      "source": [
        "#Definição dos conjuntos de treinamento e validação\n",
        "x_treino, x_val, y_treino, y_val = train_test_split(data_treino, data_classif, test_size=0.30)"
      ],
      "execution_count": 19,
      "outputs": []
    },
    {
      "cell_type": "code",
      "metadata": {
        "colab": {
          "base_uri": "https://localhost:8080/"
        },
        "id": "tkeikMp24gya",
        "outputId": "00ef7b86-ed7d-447e-ddd7-85741ca9ae22"
      },
      "source": [
        "#Apresentacao dos dados selecionados para o conjunto de treinamento e validacao\n",
        "print(\"-----------------------\")\n",
        "print(\"Conjunto de Treinamento\")\n",
        "print(x_treino)\n",
        "print(\"Conjunto de Validacao\")\n",
        "print(x_val)\n",
        "print(\"-----------------------\")"
      ],
      "execution_count": 20,
      "outputs": [
        {
          "output_type": "stream",
          "name": "stdout",
          "text": [
            "-----------------------\n",
            "Conjunto de Treinamento\n",
            "[[4.8 3.4 1.9 0.2]\n",
            " [5.8 2.8 5.1 2.4]\n",
            " [7.7 3.8 6.7 2.2]\n",
            " [5.  3.  1.6 0.2]\n",
            " [5.6 2.9 3.6 1.3]\n",
            " [6.7 2.5 5.8 1.8]\n",
            " [6.  2.7 5.1 1.6]\n",
            " [6.8 3.  5.5 2.1]\n",
            " [6.1 3.  4.9 1.8]\n",
            " [4.5 2.3 1.3 0.3]\n",
            " [6.9 3.1 5.1 2.3]\n",
            " [6.5 3.  5.8 2.2]\n",
            " [6.  2.9 4.5 1.5]\n",
            " [6.2 3.4 5.4 2.3]\n",
            " [5.8 2.7 5.1 1.9]\n",
            " [6.5 3.  5.5 1.8]\n",
            " [4.9 2.4 3.3 1. ]\n",
            " [5.3 3.7 1.5 0.2]\n",
            " [4.9 3.1 1.5 0.1]\n",
            " [5.4 3.7 1.5 0.2]\n",
            " [5.1 3.5 1.4 0.2]\n",
            " [4.8 3.  1.4 0.1]\n",
            " [5.5 2.3 4.  1.3]\n",
            " [5.4 3.4 1.7 0.2]\n",
            " [6.  3.4 4.5 1.6]\n",
            " [6.4 2.8 5.6 2.2]\n",
            " [5.  3.4 1.5 0.2]\n",
            " [5.  3.5 1.3 0.3]\n",
            " [5.2 3.4 1.4 0.2]\n",
            " [7.9 3.8 6.4 2. ]\n",
            " [6.7 3.1 4.7 1.5]\n",
            " [4.9 3.1 1.5 0.1]\n",
            " [6.7 3.3 5.7 2.1]\n",
            " [5.2 2.7 3.9 1.4]\n",
            " [6.2 2.9 4.3 1.3]\n",
            " [4.7 3.2 1.6 0.2]\n",
            " [5.  2.3 3.3 1. ]\n",
            " [5.2 3.5 1.5 0.2]\n",
            " [5.1 3.7 1.5 0.4]\n",
            " [5.5 2.4 3.8 1.1]\n",
            " [6.9 3.1 5.4 2.1]\n",
            " [6.3 2.5 4.9 1.5]\n",
            " [6.3 2.8 5.1 1.5]\n",
            " [7.4 2.8 6.1 1.9]\n",
            " [5.  3.4 1.6 0.4]\n",
            " [5.8 2.7 3.9 1.2]\n",
            " [6.3 2.9 5.6 1.8]\n",
            " [7.3 2.9 6.3 1.8]\n",
            " [6.7 3.  5.  1.7]\n",
            " [5.9 3.  4.2 1.5]\n",
            " [5.  3.2 1.2 0.2]\n",
            " [5.8 4.  1.2 0.2]\n",
            " [5.6 3.  4.1 1.3]\n",
            " [5.7 2.9 4.2 1.3]\n",
            " [6.  2.2 4.  1. ]\n",
            " [5.5 2.4 3.7 1. ]\n",
            " [5.4 3.9 1.7 0.4]\n",
            " [5.2 4.1 1.5 0.1]\n",
            " [6.3 3.3 4.7 1.6]\n",
            " [5.5 4.2 1.4 0.2]\n",
            " [7.  3.2 4.7 1.4]\n",
            " [5.8 2.6 4.  1.2]\n",
            " [6.4 3.2 5.3 2.3]\n",
            " [4.8 3.  1.4 0.3]\n",
            " [6.9 3.1 4.9 1.5]\n",
            " [7.2 3.2 6.  1.8]\n",
            " [5.  2.  3.5 1. ]\n",
            " [6.  3.  4.8 1.8]\n",
            " [5.7 2.5 5.  2. ]\n",
            " [6.3 3.4 5.6 2.4]\n",
            " [6.1 3.  4.6 1.4]\n",
            " [6.5 2.8 4.6 1.5]\n",
            " [5.  3.6 1.4 0.2]\n",
            " [5.7 2.6 3.5 1. ]\n",
            " [4.9 3.  1.4 0.2]\n",
            " [6.8 2.8 4.8 1.4]\n",
            " [6.6 3.  4.4 1.4]\n",
            " [4.4 2.9 1.4 0.2]\n",
            " [6.4 3.2 4.5 1.5]\n",
            " [6.3 2.3 4.4 1.3]\n",
            " [5.9 3.  5.1 1.8]\n",
            " [5.5 2.5 4.  1.3]\n",
            " [5.7 3.  4.2 1.2]\n",
            " [4.9 2.5 4.5 1.7]\n",
            " [5.4 3.4 1.5 0.4]\n",
            " [5.  3.3 1.4 0.2]\n",
            " [6.3 3.3 6.  2.5]\n",
            " [4.8 3.4 1.6 0.2]\n",
            " [5.1 3.8 1.6 0.2]\n",
            " [5.5 3.5 1.3 0.2]\n",
            " [6.9 3.2 5.7 2.3]\n",
            " [5.4 3.  4.5 1.5]\n",
            " [5.7 3.8 1.7 0.3]\n",
            " [5.1 3.4 1.5 0.2]\n",
            " [5.6 2.8 4.9 2. ]\n",
            " [4.7 3.2 1.3 0.2]\n",
            " [5.6 2.7 4.2 1.3]\n",
            " [6.7 3.1 5.6 2.4]\n",
            " [5.9 3.2 4.8 1.8]\n",
            " [5.1 3.8 1.9 0.4]\n",
            " [4.9 3.1 1.5 0.1]\n",
            " [5.8 2.7 4.1 1. ]\n",
            " [7.6 3.  6.6 2.1]\n",
            " [6.7 3.1 4.4 1.4]\n",
            " [5.7 2.8 4.5 1.3]]\n",
            "Conjunto de Validacao\n",
            "[[7.2 3.  5.8 1.6]\n",
            " [4.3 3.  1.1 0.1]\n",
            " [5.1 2.5 3.  1.1]\n",
            " [6.3 2.5 5.  1.9]\n",
            " [6.1 2.8 4.7 1.2]\n",
            " [5.4 3.9 1.3 0.4]\n",
            " [4.6 3.6 1.  0.2]\n",
            " [5.1 3.5 1.4 0.3]\n",
            " [4.8 3.1 1.6 0.2]\n",
            " [5.7 2.8 4.1 1.3]\n",
            " [5.  3.5 1.6 0.6]\n",
            " [6.6 2.9 4.6 1.3]\n",
            " [5.7 4.4 1.5 0.4]\n",
            " [5.1 3.8 1.5 0.3]\n",
            " [6.5 3.  5.2 2. ]\n",
            " [7.7 2.6 6.9 2.3]\n",
            " [6.1 2.8 4.  1.3]\n",
            " [6.7 3.3 5.7 2.5]\n",
            " [6.8 3.2 5.9 2.3]\n",
            " [6.5 3.2 5.1 2. ]\n",
            " [4.4 3.  1.3 0.2]\n",
            " [4.6 3.1 1.5 0.2]\n",
            " [6.3 2.7 4.9 1.8]\n",
            " [5.1 3.3 1.7 0.5]\n",
            " [6.7 3.  5.2 2.3]\n",
            " [6.  2.2 5.  1.5]\n",
            " [7.7 3.  6.1 2.3]\n",
            " [6.2 2.2 4.5 1.5]\n",
            " [6.1 2.6 5.6 1.4]\n",
            " [5.6 2.5 3.9 1.1]\n",
            " [4.6 3.2 1.4 0.2]\n",
            " [5.6 3.  4.5 1.5]\n",
            " [5.8 2.7 5.1 1.9]\n",
            " [6.2 2.8 4.8 1.8]\n",
            " [4.4 3.2 1.3 0.2]\n",
            " [7.1 3.  5.9 2.1]\n",
            " [6.4 2.8 5.6 2.1]\n",
            " [4.6 3.4 1.4 0.3]\n",
            " [7.7 2.8 6.7 2. ]\n",
            " [6.1 2.9 4.7 1.4]\n",
            " [5.5 2.6 4.4 1.2]\n",
            " [6.4 2.9 4.3 1.3]\n",
            " [6.4 2.7 5.3 1.9]\n",
            " [6.4 3.1 5.5 1.8]\n",
            " [7.2 3.6 6.1 2.5]]\n",
            "-----------------------\n"
          ]
        }
      ]
    },
    {
      "cell_type": "code",
      "metadata": {
        "colab": {
          "base_uri": "https://localhost:8080/"
        },
        "id": "v0pCdZ8v4gyb",
        "outputId": "87d23013-38b1-43b7-d259-c16ceb3df469"
      },
      "source": [
        "# Imprimindo os resultados\n",
        "print(\"{0:0.2f}% nos dados de treino\".format((len(x_treino)/len(df_iris.index)) * 100))\n",
        "print(\"{0:0.2f}% nos dados de teste\".format((len(x_val)/len(df_iris.index)) * 100))"
      ],
      "execution_count": 21,
      "outputs": [
        {
          "output_type": "stream",
          "name": "stdout",
          "text": [
            "70.00% nos dados de treino\n",
            "30.00% nos dados de teste\n"
          ]
        }
      ]
    },
    {
      "cell_type": "code",
      "metadata": {
        "id": "-gBdl6qx4gyb"
      },
      "source": [
        "# Otimizando o modelo com RandomForest\n",
        "# Algoritmo 02 - RandomForest - Realizando operações com mais de um Algoritmo de Machine Learning (Classificação)\n"
      ],
      "execution_count": 22,
      "outputs": []
    },
    {
      "cell_type": "code",
      "metadata": {
        "id": "hAR6Xb_Ncg3K"
      },
      "source": [
        "from sklearn.ensemble import RandomForestClassifier"
      ],
      "execution_count": 23,
      "outputs": []
    },
    {
      "cell_type": "code",
      "metadata": {
        "colab": {
          "base_uri": "https://localhost:8080/"
        },
        "id": "AuWzLgys4gyc",
        "outputId": "aae21622-dcc3-40e0-b3a2-957a177d11a4"
      },
      "source": [
        "#Treinamento do modelo com os dados atribuidos ao conjunto de treinamento\n",
        "modelo_v2 = RandomForestClassifier(random_state = 42)\n",
        "modelo_v2.fit(x_treino, y_treino.ravel())"
      ],
      "execution_count": 24,
      "outputs": [
        {
          "output_type": "execute_result",
          "data": {
            "text/plain": [
              "RandomForestClassifier(random_state=42)"
            ]
          },
          "metadata": {},
          "execution_count": 24
        }
      ]
    },
    {
      "cell_type": "code",
      "metadata": {
        "id": "gsKvcvshdsNX"
      },
      "source": [
        "from sklearn.metrics import accuracy_score\n",
        "from sklearn import metrics"
      ],
      "execution_count": 28,
      "outputs": []
    },
    {
      "cell_type": "code",
      "metadata": {
        "colab": {
          "base_uri": "https://localhost:8080/"
        },
        "id": "KVblHZa_cuFm",
        "outputId": "3a5c4976-8e06-4e6c-e2c7-1d18a6da4558"
      },
      "source": [
        "# Verificando os dados de treino\n",
        "rf_predict_train = modelo_v2.predict(x_treino)\n",
        "print(\"Exatidão (Accuracy): {0:.4f}\".format(metrics.accuracy_score(y_treino, rf_predict_train)))"
      ],
      "execution_count": 29,
      "outputs": [
        {
          "output_type": "stream",
          "name": "stdout",
          "text": [
            "Exatidão (Accuracy): 1.0000\n"
          ]
        }
      ]
    },
    {
      "cell_type": "code",
      "metadata": {
        "colab": {
          "base_uri": "https://localhost:8080/"
        },
        "id": "yc6JcQDScvMW",
        "outputId": "2925bbd3-0ca2-4ef1-dc84-2eae726de82d"
      },
      "source": [
        "# Verificando nos dados de teste\n",
        "rf_predict_test = modelo_v2.predict(x_val)\n",
        "print(\"Exatidão (Accuracy): na Base de Teste {0:.4f}\".format(metrics.accuracy_score(y_val, rf_predict_test)))\n",
        "print()"
      ],
      "execution_count": 30,
      "outputs": [
        {
          "output_type": "stream",
          "name": "stdout",
          "text": [
            "Exatidão (Accuracy): na Base de Teste 0.9556\n",
            "\n"
          ]
        }
      ]
    },
    {
      "cell_type": "code",
      "metadata": {
        "id": "L0H9NO0z4gyd"
      },
      "source": [
        "from sklearn import metrics"
      ],
      "execution_count": 31,
      "outputs": []
    },
    {
      "cell_type": "code",
      "metadata": {
        "colab": {
          "base_uri": "https://localhost:8080/",
          "height": 34
        },
        "id": "8u4go8dR4gye",
        "outputId": "c4eeec8b-702f-4ee7-a471-f0aa2e3d5efa"
      },
      "source": [
        "from IPython.display import Image\n",
        "Image('ConfusionMatrix.jpg')"
      ],
      "execution_count": 32,
      "outputs": [
        {
          "output_type": "execute_result",
          "data": {
            "image/png": "ConfusionMatrix.jpg",
            "text/plain": [
              "<IPython.core.display.Image object>"
            ]
          },
          "metadata": {},
          "execution_count": 32
        }
      ]
    },
    {
      "cell_type": "code",
      "metadata": {
        "id": "wMVm9bW66BcE"
      },
      "source": [
        "#Importação do pacote joblib\n",
        "import joblib"
      ],
      "execution_count": 34,
      "outputs": []
    },
    {
      "cell_type": "code",
      "metadata": {
        "colab": {
          "base_uri": "https://localhost:8080/"
        },
        "id": "m9SRGBM_6CF7",
        "outputId": "ff57c695-8281-46d2-9290-dd38842f2682"
      },
      "source": [
        "#Persistência do modelo no arquivo modelo_iris_MNB.pkl\n",
        "joblib.dump(modelo_v2, 'modelo_iris_Random.pkl')"
      ],
      "execution_count": 35,
      "outputs": [
        {
          "output_type": "execute_result",
          "data": {
            "text/plain": [
              "['modelo_iris_Random.pkl']"
            ]
          },
          "metadata": {},
          "execution_count": 35
        }
      ]
    },
    {
      "cell_type": "code",
      "metadata": {
        "colab": {
          "base_uri": "https://localhost:8080/"
        },
        "id": "CRa-WkRg6J9z",
        "outputId": "a06a156f-314d-4631-cc34-8508c509591e"
      },
      "source": [
        "#Persistência do modelo no arquivo modelo_iris_MNB.joblib\n",
        "joblib.dump(modelo_v2, 'modelo_iris_Random.joblib')"
      ],
      "execution_count": 36,
      "outputs": [
        {
          "output_type": "execute_result",
          "data": {
            "text/plain": [
              "['modelo_iris_Random.joblib']"
            ]
          },
          "metadata": {},
          "execution_count": 36
        }
      ]
    }
  ]
}