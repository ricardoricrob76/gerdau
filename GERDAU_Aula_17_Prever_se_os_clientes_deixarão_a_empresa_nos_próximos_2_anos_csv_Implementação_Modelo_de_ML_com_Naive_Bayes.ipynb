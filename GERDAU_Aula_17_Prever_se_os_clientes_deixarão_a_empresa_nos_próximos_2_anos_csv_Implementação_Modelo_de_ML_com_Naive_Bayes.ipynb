{
  "nbformat": 4,
  "nbformat_minor": 0,
  "metadata": {
    "kernelspec": {
      "display_name": "Python 3",
      "language": "python",
      "name": "python3"
    },
    "language_info": {
      "codemirror_mode": {
        "name": "ipython",
        "version": 3
      },
      "file_extension": ".py",
      "mimetype": "text/x-python",
      "name": "python",
      "nbconvert_exporter": "python",
      "pygments_lexer": "ipython3",
      "version": "3.7.6"
    },
    "colab": {
      "name": "GERDAU - Aula 17 - Prever se os clientes deixarão a empresa nos próximos 2 anos.csv  - Implementação Modelo de ML com Naive Bayes.ipynb",
      "provenance": [],
      "collapsed_sections": [],
      "include_colab_link": true
    }
  },
  "cells": [
    {
      "cell_type": "markdown",
      "metadata": {
        "id": "view-in-github",
        "colab_type": "text"
      },
      "source": [
        "<a href=\"https://colab.research.google.com/github/ricardoricrob76/gerdau/blob/main/GERDAU_Aula_17_Prever_se_os_clientes_deixar%C3%A3o_a_empresa_nos_pr%C3%B3ximos_2_anos_csv_Implementa%C3%A7%C3%A3o_Modelo_de_ML_com_Naive_Bayes.ipynb\" target=\"_parent\"><img src=\"https://colab.research.google.com/assets/colab-badge.svg\" alt=\"Open In Colab\"/></a>"
      ]
    },
    {
      "cell_type": "code",
      "metadata": {
        "id": "V1NLqiyB4gyN"
      },
      "source": [
        "# GERDAU - Treinamento InCompany\n",
        "# Autor:  Profº - Ricardo Roberto de Lima - FABWORK\n",
        "# Ciência de Dados com Python + Pandas, Numpy, SkLearning. Diabetes\n",
        "# Machine Learning - Aula 17 - Modelos Supervisionados - Naive Bayes (Teoria Geral da Probabilidade)\n",
        "# Gerando Modelo de Machine Learning (classificação)\n",
        "# Domínio: \n",
        "# O departamento de RH de uma empresa deseja prever se alguns clientes deixarão a empresa nos próximos 2 anos. Seu trabalho é construir um modelo preditivo que preveja as perspectivas do funcionário futuro e presente."
      ],
      "execution_count": null,
      "outputs": []
    },
    {
      "cell_type": "code",
      "metadata": {
        "id": "YKoMYBow4gyS"
      },
      "source": [
        "#Conjunto de importacoes\n",
        "import numpy as np\n",
        "import pandas as pd\n",
        "import matplotlib.pyplot as plt\n",
        "from sklearn.naive_bayes import MultinomialNB\n",
        "from sklearn.naive_bayes import GaussianNB\n",
        "from sklearn.metrics import accuracy_score\n",
        "from sklearn.model_selection import train_test_split"
      ],
      "execution_count": 47,
      "outputs": []
    },
    {
      "cell_type": "code",
      "metadata": {
        "colab": {
          "base_uri": "https://localhost:8080/",
          "height": 34
        },
        "id": "pS0wCytb4gyT",
        "outputId": "1d67c2bf-4382-49f8-c4b2-5003790d0d94"
      },
      "source": [
        "# Estrutura Inicial para um Projeto de Machine Learning.\n",
        "from IPython.display import Image\n",
        "Image('Workflow.png')"
      ],
      "execution_count": 48,
      "outputs": [
        {
          "output_type": "execute_result",
          "data": {
            "image/png": "Workflow.png",
            "text/plain": [
              "<IPython.core.display.Image object>"
            ]
          },
          "metadata": {},
          "execution_count": 48
        }
      ]
    },
    {
      "cell_type": "code",
      "metadata": {
        "id": "_P6hj8ya4gyU"
      },
      "source": [
        "# Adaptar para o Ambiente da GERDAU.\n",
        "# import awswrangler as wr\n",
        "\n",
        "# import boto3\n",
        "# boto3.setup_default_session(region_name=\"us-east-2\")\n",
        "\n",
        "df_empregados = pd.read_csv(\"Employee.csv\")\n",
        "\n",
        "# Criar um Objeto do tipo DataFrame no Ambiente Big Data - Gerdau\n",
        "# df_empregados=wr.s3.read_csv('s3://gerdau-analytics/gdata/datascience/Employee.csv')\n",
        "\n",
        "\n",
        "#Carrega o dataset com os dados para o treinamento e validacao\n",
        "# df_empregados = pd.read_csv(\"Employee.csv\", encoding=\"utf-8\")"
      ],
      "execution_count": 49,
      "outputs": []
    },
    {
      "cell_type": "code",
      "metadata": {
        "colab": {
          "base_uri": "https://localhost:8080/",
          "height": 363
        },
        "id": "u5NACH6MxB_Z",
        "outputId": "b4d059aa-477e-4977-a7b3-820ffc447ea5"
      },
      "source": [
        "df_empregados.head(10)"
      ],
      "execution_count": 51,
      "outputs": [
        {
          "output_type": "execute_result",
          "data": {
            "text/html": [
              "<div>\n",
              "<style scoped>\n",
              "    .dataframe tbody tr th:only-of-type {\n",
              "        vertical-align: middle;\n",
              "    }\n",
              "\n",
              "    .dataframe tbody tr th {\n",
              "        vertical-align: top;\n",
              "    }\n",
              "\n",
              "    .dataframe thead th {\n",
              "        text-align: right;\n",
              "    }\n",
              "</style>\n",
              "<table border=\"1\" class=\"dataframe\">\n",
              "  <thead>\n",
              "    <tr style=\"text-align: right;\">\n",
              "      <th></th>\n",
              "      <th>Education</th>\n",
              "      <th>JoiningYear</th>\n",
              "      <th>City</th>\n",
              "      <th>PaymentTier</th>\n",
              "      <th>Age</th>\n",
              "      <th>Gender</th>\n",
              "      <th>EverBenched</th>\n",
              "      <th>ExperienceInCurrentDomain</th>\n",
              "      <th>LeaveOrNot</th>\n",
              "    </tr>\n",
              "  </thead>\n",
              "  <tbody>\n",
              "    <tr>\n",
              "      <th>0</th>\n",
              "      <td>Bachelors</td>\n",
              "      <td>2017</td>\n",
              "      <td>Bangalore</td>\n",
              "      <td>3</td>\n",
              "      <td>34</td>\n",
              "      <td>Male</td>\n",
              "      <td>No</td>\n",
              "      <td>0</td>\n",
              "      <td>0</td>\n",
              "    </tr>\n",
              "    <tr>\n",
              "      <th>1</th>\n",
              "      <td>Bachelors</td>\n",
              "      <td>2013</td>\n",
              "      <td>Pune</td>\n",
              "      <td>1</td>\n",
              "      <td>28</td>\n",
              "      <td>Female</td>\n",
              "      <td>No</td>\n",
              "      <td>3</td>\n",
              "      <td>1</td>\n",
              "    </tr>\n",
              "    <tr>\n",
              "      <th>2</th>\n",
              "      <td>Bachelors</td>\n",
              "      <td>2014</td>\n",
              "      <td>New Delhi</td>\n",
              "      <td>3</td>\n",
              "      <td>38</td>\n",
              "      <td>Female</td>\n",
              "      <td>No</td>\n",
              "      <td>2</td>\n",
              "      <td>0</td>\n",
              "    </tr>\n",
              "    <tr>\n",
              "      <th>3</th>\n",
              "      <td>Masters</td>\n",
              "      <td>2016</td>\n",
              "      <td>Bangalore</td>\n",
              "      <td>3</td>\n",
              "      <td>27</td>\n",
              "      <td>Male</td>\n",
              "      <td>No</td>\n",
              "      <td>5</td>\n",
              "      <td>1</td>\n",
              "    </tr>\n",
              "    <tr>\n",
              "      <th>4</th>\n",
              "      <td>Masters</td>\n",
              "      <td>2017</td>\n",
              "      <td>Pune</td>\n",
              "      <td>3</td>\n",
              "      <td>24</td>\n",
              "      <td>Male</td>\n",
              "      <td>Yes</td>\n",
              "      <td>2</td>\n",
              "      <td>1</td>\n",
              "    </tr>\n",
              "    <tr>\n",
              "      <th>5</th>\n",
              "      <td>Bachelors</td>\n",
              "      <td>2016</td>\n",
              "      <td>Bangalore</td>\n",
              "      <td>3</td>\n",
              "      <td>22</td>\n",
              "      <td>Male</td>\n",
              "      <td>No</td>\n",
              "      <td>0</td>\n",
              "      <td>0</td>\n",
              "    </tr>\n",
              "    <tr>\n",
              "      <th>6</th>\n",
              "      <td>Bachelors</td>\n",
              "      <td>2015</td>\n",
              "      <td>New Delhi</td>\n",
              "      <td>3</td>\n",
              "      <td>38</td>\n",
              "      <td>Male</td>\n",
              "      <td>No</td>\n",
              "      <td>0</td>\n",
              "      <td>0</td>\n",
              "    </tr>\n",
              "    <tr>\n",
              "      <th>7</th>\n",
              "      <td>Bachelors</td>\n",
              "      <td>2016</td>\n",
              "      <td>Bangalore</td>\n",
              "      <td>3</td>\n",
              "      <td>34</td>\n",
              "      <td>Female</td>\n",
              "      <td>No</td>\n",
              "      <td>2</td>\n",
              "      <td>1</td>\n",
              "    </tr>\n",
              "    <tr>\n",
              "      <th>8</th>\n",
              "      <td>Bachelors</td>\n",
              "      <td>2016</td>\n",
              "      <td>Pune</td>\n",
              "      <td>3</td>\n",
              "      <td>23</td>\n",
              "      <td>Male</td>\n",
              "      <td>No</td>\n",
              "      <td>1</td>\n",
              "      <td>0</td>\n",
              "    </tr>\n",
              "    <tr>\n",
              "      <th>9</th>\n",
              "      <td>Masters</td>\n",
              "      <td>2017</td>\n",
              "      <td>New Delhi</td>\n",
              "      <td>2</td>\n",
              "      <td>37</td>\n",
              "      <td>Male</td>\n",
              "      <td>No</td>\n",
              "      <td>2</td>\n",
              "      <td>0</td>\n",
              "    </tr>\n",
              "  </tbody>\n",
              "</table>\n",
              "</div>"
            ],
            "text/plain": [
              "   Education  JoiningYear  ... ExperienceInCurrentDomain  LeaveOrNot\n",
              "0  Bachelors         2017  ...                         0           0\n",
              "1  Bachelors         2013  ...                         3           1\n",
              "2  Bachelors         2014  ...                         2           0\n",
              "3    Masters         2016  ...                         5           1\n",
              "4    Masters         2017  ...                         2           1\n",
              "5  Bachelors         2016  ...                         0           0\n",
              "6  Bachelors         2015  ...                         0           0\n",
              "7  Bachelors         2016  ...                         2           1\n",
              "8  Bachelors         2016  ...                         1           0\n",
              "9    Masters         2017  ...                         2           0\n",
              "\n",
              "[10 rows x 9 columns]"
            ]
          },
          "metadata": {},
          "execution_count": 51
        }
      ]
    },
    {
      "cell_type": "code",
      "metadata": {
        "colab": {
          "base_uri": "https://localhost:8080/",
          "height": 300
        },
        "id": "GaD3X8Xq4gyV",
        "outputId": "582b5c86-986b-4b14-834d-b95779e9256f"
      },
      "source": [
        "df_empregados.describe()"
      ],
      "execution_count": 52,
      "outputs": [
        {
          "output_type": "execute_result",
          "data": {
            "text/html": [
              "<div>\n",
              "<style scoped>\n",
              "    .dataframe tbody tr th:only-of-type {\n",
              "        vertical-align: middle;\n",
              "    }\n",
              "\n",
              "    .dataframe tbody tr th {\n",
              "        vertical-align: top;\n",
              "    }\n",
              "\n",
              "    .dataframe thead th {\n",
              "        text-align: right;\n",
              "    }\n",
              "</style>\n",
              "<table border=\"1\" class=\"dataframe\">\n",
              "  <thead>\n",
              "    <tr style=\"text-align: right;\">\n",
              "      <th></th>\n",
              "      <th>JoiningYear</th>\n",
              "      <th>PaymentTier</th>\n",
              "      <th>Age</th>\n",
              "      <th>ExperienceInCurrentDomain</th>\n",
              "      <th>LeaveOrNot</th>\n",
              "    </tr>\n",
              "  </thead>\n",
              "  <tbody>\n",
              "    <tr>\n",
              "      <th>count</th>\n",
              "      <td>4653.000000</td>\n",
              "      <td>4653.000000</td>\n",
              "      <td>4653.000000</td>\n",
              "      <td>4653.000000</td>\n",
              "      <td>4653.000000</td>\n",
              "    </tr>\n",
              "    <tr>\n",
              "      <th>mean</th>\n",
              "      <td>2015.062970</td>\n",
              "      <td>2.698259</td>\n",
              "      <td>29.393295</td>\n",
              "      <td>2.905652</td>\n",
              "      <td>0.343864</td>\n",
              "    </tr>\n",
              "    <tr>\n",
              "      <th>std</th>\n",
              "      <td>1.863377</td>\n",
              "      <td>0.561435</td>\n",
              "      <td>4.826087</td>\n",
              "      <td>1.558240</td>\n",
              "      <td>0.475047</td>\n",
              "    </tr>\n",
              "    <tr>\n",
              "      <th>min</th>\n",
              "      <td>2012.000000</td>\n",
              "      <td>1.000000</td>\n",
              "      <td>22.000000</td>\n",
              "      <td>0.000000</td>\n",
              "      <td>0.000000</td>\n",
              "    </tr>\n",
              "    <tr>\n",
              "      <th>25%</th>\n",
              "      <td>2013.000000</td>\n",
              "      <td>3.000000</td>\n",
              "      <td>26.000000</td>\n",
              "      <td>2.000000</td>\n",
              "      <td>0.000000</td>\n",
              "    </tr>\n",
              "    <tr>\n",
              "      <th>50%</th>\n",
              "      <td>2015.000000</td>\n",
              "      <td>3.000000</td>\n",
              "      <td>28.000000</td>\n",
              "      <td>3.000000</td>\n",
              "      <td>0.000000</td>\n",
              "    </tr>\n",
              "    <tr>\n",
              "      <th>75%</th>\n",
              "      <td>2017.000000</td>\n",
              "      <td>3.000000</td>\n",
              "      <td>32.000000</td>\n",
              "      <td>4.000000</td>\n",
              "      <td>1.000000</td>\n",
              "    </tr>\n",
              "    <tr>\n",
              "      <th>max</th>\n",
              "      <td>2018.000000</td>\n",
              "      <td>3.000000</td>\n",
              "      <td>41.000000</td>\n",
              "      <td>7.000000</td>\n",
              "      <td>1.000000</td>\n",
              "    </tr>\n",
              "  </tbody>\n",
              "</table>\n",
              "</div>"
            ],
            "text/plain": [
              "       JoiningYear  PaymentTier  ...  ExperienceInCurrentDomain   LeaveOrNot\n",
              "count  4653.000000  4653.000000  ...                4653.000000  4653.000000\n",
              "mean   2015.062970     2.698259  ...                   2.905652     0.343864\n",
              "std       1.863377     0.561435  ...                   1.558240     0.475047\n",
              "min    2012.000000     1.000000  ...                   0.000000     0.000000\n",
              "25%    2013.000000     3.000000  ...                   2.000000     0.000000\n",
              "50%    2015.000000     3.000000  ...                   3.000000     0.000000\n",
              "75%    2017.000000     3.000000  ...                   4.000000     1.000000\n",
              "max    2018.000000     3.000000  ...                   7.000000     1.000000\n",
              "\n",
              "[8 rows x 5 columns]"
            ]
          },
          "metadata": {},
          "execution_count": 52
        }
      ]
    },
    {
      "cell_type": "code",
      "metadata": {
        "colab": {
          "base_uri": "https://localhost:8080/"
        },
        "id": "ApgVahfR4gyV",
        "outputId": "9187790f-12ab-4f41-d663-b949509623e4"
      },
      "source": [
        "# Verificando o formato dos dados\n",
        "df_empregados.shape"
      ],
      "execution_count": 53,
      "outputs": [
        {
          "output_type": "execute_result",
          "data": {
            "text/plain": [
              "(4653, 9)"
            ]
          },
          "metadata": {},
          "execution_count": 53
        }
      ]
    },
    {
      "cell_type": "code",
      "metadata": {
        "id": "GpjRczQt4gyW"
      },
      "source": [
        "# Definição dos atributos que deverao ser treinados para gerar o modelo de classificacao\n",
        "data_treino = np.array(df_empregados[['JoiningYear', 'PaymentTier', 'Age', 'ExperienceInCurrentDomain']])\n",
        "\n",
        "# Definição do atributo de classificacao\n",
        "data_classif = np.array(df_empregados['LeaveOrNot'])"
      ],
      "execution_count": 54,
      "outputs": []
    },
    {
      "cell_type": "code",
      "metadata": {
        "colab": {
          "base_uri": "https://localhost:8080/",
          "height": 206
        },
        "id": "umSYcgJg4gyX",
        "outputId": "5c800a7d-c35a-44fd-af4b-ad45b7801f1a"
      },
      "source": [
        "# Verificando as primeiras linhas do dataset\n",
        "df_empregados.head(5)"
      ],
      "execution_count": 55,
      "outputs": [
        {
          "output_type": "execute_result",
          "data": {
            "text/html": [
              "<div>\n",
              "<style scoped>\n",
              "    .dataframe tbody tr th:only-of-type {\n",
              "        vertical-align: middle;\n",
              "    }\n",
              "\n",
              "    .dataframe tbody tr th {\n",
              "        vertical-align: top;\n",
              "    }\n",
              "\n",
              "    .dataframe thead th {\n",
              "        text-align: right;\n",
              "    }\n",
              "</style>\n",
              "<table border=\"1\" class=\"dataframe\">\n",
              "  <thead>\n",
              "    <tr style=\"text-align: right;\">\n",
              "      <th></th>\n",
              "      <th>Education</th>\n",
              "      <th>JoiningYear</th>\n",
              "      <th>City</th>\n",
              "      <th>PaymentTier</th>\n",
              "      <th>Age</th>\n",
              "      <th>Gender</th>\n",
              "      <th>EverBenched</th>\n",
              "      <th>ExperienceInCurrentDomain</th>\n",
              "      <th>LeaveOrNot</th>\n",
              "    </tr>\n",
              "  </thead>\n",
              "  <tbody>\n",
              "    <tr>\n",
              "      <th>0</th>\n",
              "      <td>Bachelors</td>\n",
              "      <td>2017</td>\n",
              "      <td>Bangalore</td>\n",
              "      <td>3</td>\n",
              "      <td>34</td>\n",
              "      <td>Male</td>\n",
              "      <td>No</td>\n",
              "      <td>0</td>\n",
              "      <td>0</td>\n",
              "    </tr>\n",
              "    <tr>\n",
              "      <th>1</th>\n",
              "      <td>Bachelors</td>\n",
              "      <td>2013</td>\n",
              "      <td>Pune</td>\n",
              "      <td>1</td>\n",
              "      <td>28</td>\n",
              "      <td>Female</td>\n",
              "      <td>No</td>\n",
              "      <td>3</td>\n",
              "      <td>1</td>\n",
              "    </tr>\n",
              "    <tr>\n",
              "      <th>2</th>\n",
              "      <td>Bachelors</td>\n",
              "      <td>2014</td>\n",
              "      <td>New Delhi</td>\n",
              "      <td>3</td>\n",
              "      <td>38</td>\n",
              "      <td>Female</td>\n",
              "      <td>No</td>\n",
              "      <td>2</td>\n",
              "      <td>0</td>\n",
              "    </tr>\n",
              "    <tr>\n",
              "      <th>3</th>\n",
              "      <td>Masters</td>\n",
              "      <td>2016</td>\n",
              "      <td>Bangalore</td>\n",
              "      <td>3</td>\n",
              "      <td>27</td>\n",
              "      <td>Male</td>\n",
              "      <td>No</td>\n",
              "      <td>5</td>\n",
              "      <td>1</td>\n",
              "    </tr>\n",
              "    <tr>\n",
              "      <th>4</th>\n",
              "      <td>Masters</td>\n",
              "      <td>2017</td>\n",
              "      <td>Pune</td>\n",
              "      <td>3</td>\n",
              "      <td>24</td>\n",
              "      <td>Male</td>\n",
              "      <td>Yes</td>\n",
              "      <td>2</td>\n",
              "      <td>1</td>\n",
              "    </tr>\n",
              "  </tbody>\n",
              "</table>\n",
              "</div>"
            ],
            "text/plain": [
              "   Education  JoiningYear  ... ExperienceInCurrentDomain  LeaveOrNot\n",
              "0  Bachelors         2017  ...                         0           0\n",
              "1  Bachelors         2013  ...                         3           1\n",
              "2  Bachelors         2014  ...                         2           0\n",
              "3    Masters         2016  ...                         5           1\n",
              "4    Masters         2017  ...                         2           1\n",
              "\n",
              "[5 rows x 9 columns]"
            ]
          },
          "metadata": {},
          "execution_count": 55
        }
      ]
    },
    {
      "cell_type": "code",
      "metadata": {
        "colab": {
          "base_uri": "https://localhost:8080/",
          "height": 206
        },
        "id": "VM8a-r1i4gyX",
        "outputId": "7ff4167d-dd3c-4c1b-8d18-63e6e6ffcdf4"
      },
      "source": [
        "# Verificando as ultimas linhas do dataset\n",
        "df_empregados.tail(5)"
      ],
      "execution_count": 56,
      "outputs": [
        {
          "output_type": "execute_result",
          "data": {
            "text/html": [
              "<div>\n",
              "<style scoped>\n",
              "    .dataframe tbody tr th:only-of-type {\n",
              "        vertical-align: middle;\n",
              "    }\n",
              "\n",
              "    .dataframe tbody tr th {\n",
              "        vertical-align: top;\n",
              "    }\n",
              "\n",
              "    .dataframe thead th {\n",
              "        text-align: right;\n",
              "    }\n",
              "</style>\n",
              "<table border=\"1\" class=\"dataframe\">\n",
              "  <thead>\n",
              "    <tr style=\"text-align: right;\">\n",
              "      <th></th>\n",
              "      <th>Education</th>\n",
              "      <th>JoiningYear</th>\n",
              "      <th>City</th>\n",
              "      <th>PaymentTier</th>\n",
              "      <th>Age</th>\n",
              "      <th>Gender</th>\n",
              "      <th>EverBenched</th>\n",
              "      <th>ExperienceInCurrentDomain</th>\n",
              "      <th>LeaveOrNot</th>\n",
              "    </tr>\n",
              "  </thead>\n",
              "  <tbody>\n",
              "    <tr>\n",
              "      <th>4648</th>\n",
              "      <td>Bachelors</td>\n",
              "      <td>2013</td>\n",
              "      <td>Bangalore</td>\n",
              "      <td>3</td>\n",
              "      <td>26</td>\n",
              "      <td>Female</td>\n",
              "      <td>No</td>\n",
              "      <td>4</td>\n",
              "      <td>0</td>\n",
              "    </tr>\n",
              "    <tr>\n",
              "      <th>4649</th>\n",
              "      <td>Masters</td>\n",
              "      <td>2013</td>\n",
              "      <td>Pune</td>\n",
              "      <td>2</td>\n",
              "      <td>37</td>\n",
              "      <td>Male</td>\n",
              "      <td>No</td>\n",
              "      <td>2</td>\n",
              "      <td>1</td>\n",
              "    </tr>\n",
              "    <tr>\n",
              "      <th>4650</th>\n",
              "      <td>Masters</td>\n",
              "      <td>2018</td>\n",
              "      <td>New Delhi</td>\n",
              "      <td>3</td>\n",
              "      <td>27</td>\n",
              "      <td>Male</td>\n",
              "      <td>No</td>\n",
              "      <td>5</td>\n",
              "      <td>1</td>\n",
              "    </tr>\n",
              "    <tr>\n",
              "      <th>4651</th>\n",
              "      <td>Bachelors</td>\n",
              "      <td>2012</td>\n",
              "      <td>Bangalore</td>\n",
              "      <td>3</td>\n",
              "      <td>30</td>\n",
              "      <td>Male</td>\n",
              "      <td>Yes</td>\n",
              "      <td>2</td>\n",
              "      <td>0</td>\n",
              "    </tr>\n",
              "    <tr>\n",
              "      <th>4652</th>\n",
              "      <td>Bachelors</td>\n",
              "      <td>2015</td>\n",
              "      <td>Bangalore</td>\n",
              "      <td>3</td>\n",
              "      <td>33</td>\n",
              "      <td>Male</td>\n",
              "      <td>Yes</td>\n",
              "      <td>4</td>\n",
              "      <td>0</td>\n",
              "    </tr>\n",
              "  </tbody>\n",
              "</table>\n",
              "</div>"
            ],
            "text/plain": [
              "      Education  JoiningYear  ... ExperienceInCurrentDomain  LeaveOrNot\n",
              "4648  Bachelors         2013  ...                         4           0\n",
              "4649    Masters         2013  ...                         2           1\n",
              "4650    Masters         2018  ...                         5           1\n",
              "4651  Bachelors         2012  ...                         2           0\n",
              "4652  Bachelors         2015  ...                         4           0\n",
              "\n",
              "[5 rows x 9 columns]"
            ]
          },
          "metadata": {},
          "execution_count": 56
        }
      ]
    },
    {
      "cell_type": "code",
      "metadata": {
        "id": "AubcBR2L4gyY"
      },
      "source": [
        "# Identificando a correlação entre as variáveis\n",
        "# Correlação não implica causalidade\n",
        "def plot_corr(df_empregados, size=35):\n",
        "    corr = df_empregados.corr()    \n",
        "    fig, ax = plt.subplots(figsize = (size, size))\n",
        "    ax.matshow(corr)  \n",
        "    plt.xticks(range(len(corr.columns)), corr.columns) \n",
        "    plt.yticks(range(len(corr.columns)), corr.columns) "
      ],
      "execution_count": 57,
      "outputs": []
    },
    {
      "cell_type": "code",
      "metadata": {
        "colab": {
          "base_uri": "https://localhost:8080/",
          "height": 1000
        },
        "id": "i6JbClwS4gyZ",
        "outputId": "4361ec01-ffc9-419e-b42f-9a257b5304e2"
      },
      "source": [
        "# Criando o gráfico - Matriz de Correlação..\n",
        "plot_corr(df_empregados)"
      ],
      "execution_count": 58,
      "outputs": [
        {
          "output_type": "display_data",
          "data": {
            "image/png": "[encoded data removed]",
            "text/plain": [
              "<Figure size 2520x2520 with 1 Axes>"
            ]
          },
          "metadata": {
            "needs_background": "light"
          }
        }
      ]
    },
    {
      "cell_type": "code",
      "metadata": {
        "id": "G2LPIHV24gyZ"
      },
      "source": [
        "# Spliting = 70% para dados de treino e 30% para dados de teste"
      ],
      "execution_count": null,
      "outputs": []
    },
    {
      "cell_type": "code",
      "metadata": {
        "colab": {
          "base_uri": "https://localhost:8080/",
          "height": 34
        },
        "id": "8CP15jY94gya",
        "outputId": "e26db57c-1576-4185-bcef-c61acc471a59"
      },
      "source": [
        "from IPython.display import Image\n",
        "Image('Treinamento.png')"
      ],
      "execution_count": null,
      "outputs": [
        {
          "output_type": "execute_result",
          "data": {
            "image/png": "Treinamento.png",
            "text/plain": [
              "<IPython.core.display.Image object>"
            ]
          },
          "metadata": {},
          "execution_count": 18
        }
      ]
    },
    {
      "cell_type": "code",
      "metadata": {
        "id": "Z5RX05zE4gya"
      },
      "source": [
        "#Definição dos conjuntos de treinamento e validação\n",
        "x_treino, x_val, y_treino, y_val = train_test_split(data_treino, data_classif, test_size=0.30)"
      ],
      "execution_count": 59,
      "outputs": []
    },
    {
      "cell_type": "code",
      "metadata": {
        "colab": {
          "base_uri": "https://localhost:8080/"
        },
        "id": "tkeikMp24gya",
        "outputId": "becf530d-cb80-4b57-9847-9f432280fede"
      },
      "source": [
        "#Apresentacao dos dados selecionados para o conjunto de treinamento e validacao\n",
        "print(\"-----------------------\")\n",
        "print(\"Conjunto de Treinamento\")\n",
        "print(x_treino)\n",
        "print(\"Conjunto de Validacao\")\n",
        "print(x_val)\n",
        "print(\"-----------------------\")"
      ],
      "execution_count": 60,
      "outputs": [
        {
          "output_type": "stream",
          "name": "stdout",
          "text": [
            "-----------------------\n",
            "Conjunto de Treinamento\n",
            "[[2014    3   36    1]\n",
            " [2014    3   39    4]\n",
            " [2015    3   29    2]\n",
            " ...\n",
            " [2014    1   29    2]\n",
            " [2017    2   24    2]\n",
            " [2013    3   29    1]]\n",
            "Conjunto de Validacao\n",
            "[[2013    1   28    3]\n",
            " [2017    1   24    2]\n",
            " [2014    3   29    1]\n",
            " ...\n",
            " [2017    3   41    3]\n",
            " [2012    3   36    5]\n",
            " [2012    3   28    3]]\n",
            "-----------------------\n"
          ]
        }
      ]
    },
    {
      "cell_type": "code",
      "metadata": {
        "colab": {
          "base_uri": "https://localhost:8080/"
        },
        "id": "v0pCdZ8v4gyb",
        "outputId": "83bb0ed8-eba0-4fbd-ef03-3acc92090d14"
      },
      "source": [
        "# Imprimindo os resultados\n",
        "print(\"{0:0.2f}% nos dados de treino\".format((len(x_treino)/len(df_bikes.index)) * 100))\n",
        "print(\"{0:0.2f}% nos dados de teste\".format((len(x_val)/len(df_bikes.index)) * 100))"
      ],
      "execution_count": 61,
      "outputs": [
        {
          "output_type": "stream",
          "name": "stdout",
          "text": [
            "217.13% nos dados de treino\n",
            "93.07% nos dados de teste\n"
          ]
        }
      ]
    },
    {
      "cell_type": "code",
      "metadata": {
        "id": "-gBdl6qx4gyb"
      },
      "source": [
        "# Otimizando o modelo com RandomForest\n",
        "# Algoritmo 02 - RandomForest - Realizando operações com mais de um Algoritmo de Machine Learning (Classificação)\n"
      ],
      "execution_count": 62,
      "outputs": []
    },
    {
      "cell_type": "code",
      "metadata": {
        "id": "hAR6Xb_Ncg3K"
      },
      "source": [
        "from sklearn.ensemble import RandomForestClassifier"
      ],
      "execution_count": 63,
      "outputs": []
    },
    {
      "cell_type": "code",
      "metadata": {
        "colab": {
          "base_uri": "https://localhost:8080/"
        },
        "id": "AuWzLgys4gyc",
        "outputId": "319acfec-db1f-4584-c105-9a66a9472a85"
      },
      "source": [
        "#Treinamento do modelo com os dados atribuidos ao conjunto de treinamento\n",
        "modelo_NB = GaussianNB()\n",
        "modelo_NB.fit(x_treino, y_treino)"
      ],
      "execution_count": 64,
      "outputs": [
        {
          "output_type": "execute_result",
          "data": {
            "text/plain": [
              "GaussianNB()"
            ]
          },
          "metadata": {},
          "execution_count": 64
        }
      ]
    },
    {
      "cell_type": "code",
      "metadata": {
        "id": "gsKvcvshdsNX"
      },
      "source": [
        "from sklearn.metrics import accuracy_score\n",
        "from sklearn import metrics"
      ],
      "execution_count": 65,
      "outputs": []
    },
    {
      "cell_type": "code",
      "metadata": {
        "colab": {
          "base_uri": "https://localhost:8080/"
        },
        "id": "KVblHZa_cuFm",
        "outputId": "f29010f5-82c7-4787-aed9-9d7bb0d74e9b"
      },
      "source": [
        "# Verificando os dados de treino\n",
        "rf_predict_train = modelo_NB.predict(x_treino)\n",
        "print(\"Exatidão (Accuracy): {0:.4f}\".format(metrics.accuracy_score(y_treino, rf_predict_train)))"
      ],
      "execution_count": 66,
      "outputs": [
        {
          "output_type": "stream",
          "name": "stdout",
          "text": [
            "Exatidão (Accuracy): 0.6263\n"
          ]
        }
      ]
    },
    {
      "cell_type": "code",
      "metadata": {
        "colab": {
          "base_uri": "https://localhost:8080/"
        },
        "id": "yc6JcQDScvMW",
        "outputId": "989935b8-3712-42c2-c431-26b44dbb1e8d"
      },
      "source": [
        "# Verificando nos dados de teste\n",
        "rf_predict_test = modelo_NB.predict(x_val)\n",
        "print(\"Exatidão (Accuracy): na Base de Teste {0:.4f}\".format(metrics.accuracy_score(y_val, rf_predict_test)))\n",
        "print()"
      ],
      "execution_count": 67,
      "outputs": [
        {
          "output_type": "stream",
          "name": "stdout",
          "text": [
            "Exatidão (Accuracy): na Base de Teste 0.6189\n",
            "\n"
          ]
        }
      ]
    },
    {
      "cell_type": "code",
      "metadata": {
        "id": "L0H9NO0z4gyd"
      },
      "source": [
        "from sklearn import metrics"
      ],
      "execution_count": 70,
      "outputs": []
    },
    {
      "cell_type": "code",
      "metadata": {
        "colab": {
          "base_uri": "https://localhost:8080/",
          "height": 34
        },
        "id": "8u4go8dR4gye",
        "outputId": "346df6da-2c8f-47aa-c9f5-17f35ae4034a"
      },
      "source": [
        "from IPython.display import Image\n",
        "Image('ConfusionMatrix.jpg')"
      ],
      "execution_count": 71,
      "outputs": [
        {
          "output_type": "execute_result",
          "data": {
            "image/png": "ConfusionMatrix.jpg",
            "text/plain": [
              "<IPython.core.display.Image object>"
            ]
          },
          "metadata": {},
          "execution_count": 71
        }
      ]
    },
    {
      "cell_type": "code",
      "metadata": {
        "colab": {
          "base_uri": "https://localhost:8080/"
        },
        "id": "eyzY5GsK-AQm",
        "outputId": "8045e19f-bef1-4d11-c119-529f52fbe049"
      },
      "source": [
        "print(\"Exatidão (Accuracy): na Base de Teste {0:.4f}\".format(metrics.accuracy_score(y_val, rf_predict_test)))\n",
        "print()\n",
        "print(\"Classification Report\")\n",
        "print(metrics.classification_report(y_val, rf_predict_test, labels = [1, 0]))"
      ],
      "execution_count": 74,
      "outputs": [
        {
          "output_type": "stream",
          "name": "stdout",
          "text": [
            "Exatidão (Accuracy): na Base de Teste 0.6189\n",
            "\n",
            "Classification Report\n",
            "              precision    recall  f1-score   support\n",
            "\n",
            "           1       0.44      0.21      0.29       503\n",
            "           0       0.66      0.85      0.74       893\n",
            "\n",
            "    accuracy                           0.62      1396\n",
            "   macro avg       0.55      0.53      0.51      1396\n",
            "weighted avg       0.58      0.62      0.58      1396\n",
            "\n"
          ]
        }
      ]
    },
    {
      "cell_type": "code",
      "metadata": {
        "id": "wMVm9bW66BcE"
      },
      "source": [
        "#Importação do pacote joblib\n",
        "import joblib"
      ],
      "execution_count": 75,
      "outputs": []
    },
    {
      "cell_type": "code",
      "metadata": {
        "colab": {
          "base_uri": "https://localhost:8080/"
        },
        "id": "m9SRGBM_6CF7",
        "outputId": "135380c5-9ab0-487d-cf60-5cb0eab4ce60"
      },
      "source": [
        "# Persistência do modelo no arquivo modelo_empregados_MNB.pkl\n",
        "joblib.dump(modelo_NB, 'modelo_empregados_Random.pkl')"
      ],
      "execution_count": 77,
      "outputs": [
        {
          "output_type": "execute_result",
          "data": {
            "text/plain": [
              "['modelo_empregados_Random.pkl']"
            ]
          },
          "metadata": {},
          "execution_count": 77
        }
      ]
    },
    {
      "cell_type": "code",
      "metadata": {
        "colab": {
          "base_uri": "https://localhost:8080/"
        },
        "id": "CRa-WkRg6J9z",
        "outputId": "79df1040-b72f-4d51-8ccf-32046bbcf299"
      },
      "source": [
        "# Persistência do modelo no arquivo modelo_empregados_MNB.joblib\n",
        "joblib.dump(modelo_NB, 'modelo_empregados_Random.joblib')"
      ],
      "execution_count": 78,
      "outputs": [
        {
          "output_type": "execute_result",
          "data": {
            "text/plain": [
              "['modelo_empregados_Random.joblib']"
            ]
          },
          "metadata": {},
          "execution_count": 78
        }
      ]
    },
    {
      "cell_type": "code",
      "metadata": {
        "id": "ccNXcFyA-ZyW"
      },
      "source": [
        ""
      ],
      "execution_count": null,
      "outputs": []
    }
  ]
}