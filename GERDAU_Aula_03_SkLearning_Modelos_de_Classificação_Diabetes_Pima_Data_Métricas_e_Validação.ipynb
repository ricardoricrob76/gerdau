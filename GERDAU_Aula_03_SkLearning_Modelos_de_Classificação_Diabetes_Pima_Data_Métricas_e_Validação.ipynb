{
  "nbformat": 4,
  "nbformat_minor": 0,
  "metadata": {
    "colab": {
      "name": "GERDAU - Aula 03 - SkLearning - Modelos de Classificação - Diabetes - Pima-Data - Métricas e Validação.ipynb",
      "provenance": [],
      "collapsed_sections": [],
      "authorship_tag": "ABX9TyPDFP8nt+bpOOp36A/bTQ5z",
      "include_colab_link": true
    },
    "kernelspec": {
      "name": "python3",
      "display_name": "Python 3"
    },
    "language_info": {
      "name": "python"
    }
  },
  "cells": [
    {
      "cell_type": "markdown",
      "metadata": {
        "id": "view-in-github",
        "colab_type": "text"
      },
      "source": [
        "<a href=\"https://colab.research.google.com/github/ricardoricrob76/gerdau/blob/main/GERDAU_Aula_03_SkLearning_Modelos_de_Classifica%C3%A7%C3%A3o_Diabetes_Pima_Data_M%C3%A9tricas_e_Valida%C3%A7%C3%A3o.ipynb\" target=\"_parent\"><img src=\"https://colab.research.google.com/assets/colab-badge.svg\" alt=\"Open In Colab\"/></a>"
      ]
    },
    {
      "cell_type": "code",
      "metadata": {
        "id": "vqLIS7WQlQ8b"
      },
      "source": [
        "# GERDAU - Treinamento InCompany\n",
        "# Autor:  Profº - Ricardo Roberto de Lima - FABWORK\n",
        "# Ciência de Dados com Python + Pandas, Numpy, SkLearning. Diabetes\n",
        "# Machine Learning - Aula 03 - Modelos de Classificação - Algoritmo Naive Bayes e Métricas de Validação.\n",
        "# Algoritmos: Naive Bayes - Randon Forest - Regressão Logística."
      ],
      "execution_count": 121,
      "outputs": []
    },
    {
      "cell_type": "code",
      "metadata": {
        "id": "t-RmYjnNmIGP"
      },
      "source": [
        "# Importando a biblioteca pandas para carregar e visualizar a base de dados\n",
        "#Conjunto de importacoes\n",
        "import numpy as np\n",
        "import pandas as pd\n",
        "import matplotlib.pyplot as plt\n",
        "from sklearn.naive_bayes import MultinomialNB\n",
        "from sklearn.naive_bayes import GaussianNB\n",
        "from sklearn.metrics import accuracy_score\n",
        "from sklearn.model_selection import train_test_split\n",
        "from sklearn.datasets import load_diabetes\n",
        "\n",
        "# Adaptar para o Ambiente da GERDAU.\n",
        "# import awswrangler as wr\n",
        "\n",
        "# import boto3\n",
        "# boto3.setup_default_session(region_name=\"us-east-2\")"
      ],
      "execution_count": 51,
      "outputs": []
    },
    {
      "cell_type": "code",
      "metadata": {
        "id": "dEcQcna9mt7C",
        "colab": {
          "base_uri": "https://localhost:8080/",
          "height": 34
        },
        "outputId": "1d869da8-dfe8-4bcd-a481-12b917db52eb"
      },
      "source": [
        "# Estrutura Inicial para um Projeto de Machine Learning.\n",
        "from IPython.display import Image\n",
        "Image('Workflow.png')"
      ],
      "execution_count": 52,
      "outputs": [
        {
          "output_type": "execute_result",
          "data": {
            "image/png": "Workflow.png",
            "text/plain": [
              "<IPython.core.display.Image object>"
            ]
          },
          "metadata": {},
          "execution_count": 52
        }
      ]
    },
    {
      "cell_type": "code",
      "metadata": {
        "id": "zRd__t-gn_mV"
      },
      "source": [
        "# Criar um Objeto do tipo DataFrame - Chamado DF_diabetes\n",
        "#Carrega o dataset com os dados para o treinamento e validacao\n",
        "df_diabetes = pd.read_csv(\"diabetes.csv\", encoding=\"utf-8\")\n",
        "\n",
        "# Criar um Objeto do tipo DataFrame no Ambiente Big Data - Gerdau\n",
        "# df_diabetes = pd.read_csv(\"s3://gerdau-analytics/gdata/datascience/diabetes.csv\", encoding=\"utf-8\")\n"
      ],
      "execution_count": 53,
      "outputs": []
    },
    {
      "cell_type": "code",
      "metadata": {
        "colab": {
          "base_uri": "https://localhost:8080/",
          "height": 419
        },
        "id": "KvO3Z0psnKVE",
        "outputId": "40876021-f568-476e-a2bc-f017ac36ec75"
      },
      "source": [
        "# Visualizando as 10 primeiras linhas do meu Data Frame - Cancer de Mama.\n",
        "df_diabetes"
      ],
      "execution_count": 54,
      "outputs": [
        {
          "output_type": "execute_result",
          "data": {
            "text/html": [
              "<div>\n",
              "<style scoped>\n",
              "    .dataframe tbody tr th:only-of-type {\n",
              "        vertical-align: middle;\n",
              "    }\n",
              "\n",
              "    .dataframe tbody tr th {\n",
              "        vertical-align: top;\n",
              "    }\n",
              "\n",
              "    .dataframe thead th {\n",
              "        text-align: right;\n",
              "    }\n",
              "</style>\n",
              "<table border=\"1\" class=\"dataframe\">\n",
              "  <thead>\n",
              "    <tr style=\"text-align: right;\">\n",
              "      <th></th>\n",
              "      <th>Pregnancies</th>\n",
              "      <th>Glucose</th>\n",
              "      <th>BloodPressure</th>\n",
              "      <th>SkinThickness</th>\n",
              "      <th>Insulin</th>\n",
              "      <th>BMI</th>\n",
              "      <th>DiabetesPedigreeFunction</th>\n",
              "      <th>Age</th>\n",
              "      <th>Outcome</th>\n",
              "    </tr>\n",
              "  </thead>\n",
              "  <tbody>\n",
              "    <tr>\n",
              "      <th>0</th>\n",
              "      <td>6</td>\n",
              "      <td>148</td>\n",
              "      <td>72</td>\n",
              "      <td>35</td>\n",
              "      <td>0</td>\n",
              "      <td>33.6</td>\n",
              "      <td>0.627</td>\n",
              "      <td>50</td>\n",
              "      <td>1</td>\n",
              "    </tr>\n",
              "    <tr>\n",
              "      <th>1</th>\n",
              "      <td>1</td>\n",
              "      <td>85</td>\n",
              "      <td>66</td>\n",
              "      <td>29</td>\n",
              "      <td>0</td>\n",
              "      <td>26.6</td>\n",
              "      <td>0.351</td>\n",
              "      <td>31</td>\n",
              "      <td>0</td>\n",
              "    </tr>\n",
              "    <tr>\n",
              "      <th>2</th>\n",
              "      <td>8</td>\n",
              "      <td>183</td>\n",
              "      <td>64</td>\n",
              "      <td>0</td>\n",
              "      <td>0</td>\n",
              "      <td>23.3</td>\n",
              "      <td>0.672</td>\n",
              "      <td>32</td>\n",
              "      <td>1</td>\n",
              "    </tr>\n",
              "    <tr>\n",
              "      <th>3</th>\n",
              "      <td>1</td>\n",
              "      <td>89</td>\n",
              "      <td>66</td>\n",
              "      <td>23</td>\n",
              "      <td>94</td>\n",
              "      <td>28.1</td>\n",
              "      <td>0.167</td>\n",
              "      <td>21</td>\n",
              "      <td>0</td>\n",
              "    </tr>\n",
              "    <tr>\n",
              "      <th>4</th>\n",
              "      <td>0</td>\n",
              "      <td>137</td>\n",
              "      <td>40</td>\n",
              "      <td>35</td>\n",
              "      <td>168</td>\n",
              "      <td>43.1</td>\n",
              "      <td>2.288</td>\n",
              "      <td>33</td>\n",
              "      <td>1</td>\n",
              "    </tr>\n",
              "    <tr>\n",
              "      <th>...</th>\n",
              "      <td>...</td>\n",
              "      <td>...</td>\n",
              "      <td>...</td>\n",
              "      <td>...</td>\n",
              "      <td>...</td>\n",
              "      <td>...</td>\n",
              "      <td>...</td>\n",
              "      <td>...</td>\n",
              "      <td>...</td>\n",
              "    </tr>\n",
              "    <tr>\n",
              "      <th>763</th>\n",
              "      <td>10</td>\n",
              "      <td>101</td>\n",
              "      <td>76</td>\n",
              "      <td>48</td>\n",
              "      <td>180</td>\n",
              "      <td>32.9</td>\n",
              "      <td>0.171</td>\n",
              "      <td>63</td>\n",
              "      <td>0</td>\n",
              "    </tr>\n",
              "    <tr>\n",
              "      <th>764</th>\n",
              "      <td>2</td>\n",
              "      <td>122</td>\n",
              "      <td>70</td>\n",
              "      <td>27</td>\n",
              "      <td>0</td>\n",
              "      <td>36.8</td>\n",
              "      <td>0.340</td>\n",
              "      <td>27</td>\n",
              "      <td>0</td>\n",
              "    </tr>\n",
              "    <tr>\n",
              "      <th>765</th>\n",
              "      <td>5</td>\n",
              "      <td>121</td>\n",
              "      <td>72</td>\n",
              "      <td>23</td>\n",
              "      <td>112</td>\n",
              "      <td>26.2</td>\n",
              "      <td>0.245</td>\n",
              "      <td>30</td>\n",
              "      <td>0</td>\n",
              "    </tr>\n",
              "    <tr>\n",
              "      <th>766</th>\n",
              "      <td>1</td>\n",
              "      <td>126</td>\n",
              "      <td>60</td>\n",
              "      <td>0</td>\n",
              "      <td>0</td>\n",
              "      <td>30.1</td>\n",
              "      <td>0.349</td>\n",
              "      <td>47</td>\n",
              "      <td>1</td>\n",
              "    </tr>\n",
              "    <tr>\n",
              "      <th>767</th>\n",
              "      <td>1</td>\n",
              "      <td>93</td>\n",
              "      <td>70</td>\n",
              "      <td>31</td>\n",
              "      <td>0</td>\n",
              "      <td>30.4</td>\n",
              "      <td>0.315</td>\n",
              "      <td>23</td>\n",
              "      <td>0</td>\n",
              "    </tr>\n",
              "  </tbody>\n",
              "</table>\n",
              "<p>768 rows × 9 columns</p>\n",
              "</div>"
            ],
            "text/plain": [
              "     Pregnancies  Glucose  ...  Age  Outcome\n",
              "0              6      148  ...   50        1\n",
              "1              1       85  ...   31        0\n",
              "2              8      183  ...   32        1\n",
              "3              1       89  ...   21        0\n",
              "4              0      137  ...   33        1\n",
              "..           ...      ...  ...  ...      ...\n",
              "763           10      101  ...   63        0\n",
              "764            2      122  ...   27        0\n",
              "765            5      121  ...   30        0\n",
              "766            1      126  ...   47        1\n",
              "767            1       93  ...   23        0\n",
              "\n",
              "[768 rows x 9 columns]"
            ]
          },
          "metadata": {},
          "execution_count": 54
        }
      ]
    },
    {
      "cell_type": "code",
      "metadata": {
        "id": "jZaTrWqcni8M",
        "colab": {
          "base_uri": "https://localhost:8080/",
          "height": 297
        },
        "outputId": "aa2de62e-1547-49e1-ce4d-97095d6e628c"
      },
      "source": [
        "# Mostrando uma descrição do Data Frame com a operação describe\n",
        "df_diabetes.describe()"
      ],
      "execution_count": 55,
      "outputs": [
        {
          "output_type": "execute_result",
          "data": {
            "text/html": [
              "<div>\n",
              "<style scoped>\n",
              "    .dataframe tbody tr th:only-of-type {\n",
              "        vertical-align: middle;\n",
              "    }\n",
              "\n",
              "    .dataframe tbody tr th {\n",
              "        vertical-align: top;\n",
              "    }\n",
              "\n",
              "    .dataframe thead th {\n",
              "        text-align: right;\n",
              "    }\n",
              "</style>\n",
              "<table border=\"1\" class=\"dataframe\">\n",
              "  <thead>\n",
              "    <tr style=\"text-align: right;\">\n",
              "      <th></th>\n",
              "      <th>Pregnancies</th>\n",
              "      <th>Glucose</th>\n",
              "      <th>BloodPressure</th>\n",
              "      <th>SkinThickness</th>\n",
              "      <th>Insulin</th>\n",
              "      <th>BMI</th>\n",
              "      <th>DiabetesPedigreeFunction</th>\n",
              "      <th>Age</th>\n",
              "      <th>Outcome</th>\n",
              "    </tr>\n",
              "  </thead>\n",
              "  <tbody>\n",
              "    <tr>\n",
              "      <th>count</th>\n",
              "      <td>768.000000</td>\n",
              "      <td>768.000000</td>\n",
              "      <td>768.000000</td>\n",
              "      <td>768.000000</td>\n",
              "      <td>768.000000</td>\n",
              "      <td>768.000000</td>\n",
              "      <td>768.000000</td>\n",
              "      <td>768.000000</td>\n",
              "      <td>768.000000</td>\n",
              "    </tr>\n",
              "    <tr>\n",
              "      <th>mean</th>\n",
              "      <td>3.845052</td>\n",
              "      <td>120.894531</td>\n",
              "      <td>69.105469</td>\n",
              "      <td>20.536458</td>\n",
              "      <td>79.799479</td>\n",
              "      <td>31.992578</td>\n",
              "      <td>0.471876</td>\n",
              "      <td>33.240885</td>\n",
              "      <td>0.348958</td>\n",
              "    </tr>\n",
              "    <tr>\n",
              "      <th>std</th>\n",
              "      <td>3.369578</td>\n",
              "      <td>31.972618</td>\n",
              "      <td>19.355807</td>\n",
              "      <td>15.952218</td>\n",
              "      <td>115.244002</td>\n",
              "      <td>7.884160</td>\n",
              "      <td>0.331329</td>\n",
              "      <td>11.760232</td>\n",
              "      <td>0.476951</td>\n",
              "    </tr>\n",
              "    <tr>\n",
              "      <th>min</th>\n",
              "      <td>0.000000</td>\n",
              "      <td>0.000000</td>\n",
              "      <td>0.000000</td>\n",
              "      <td>0.000000</td>\n",
              "      <td>0.000000</td>\n",
              "      <td>0.000000</td>\n",
              "      <td>0.078000</td>\n",
              "      <td>21.000000</td>\n",
              "      <td>0.000000</td>\n",
              "    </tr>\n",
              "    <tr>\n",
              "      <th>25%</th>\n",
              "      <td>1.000000</td>\n",
              "      <td>99.000000</td>\n",
              "      <td>62.000000</td>\n",
              "      <td>0.000000</td>\n",
              "      <td>0.000000</td>\n",
              "      <td>27.300000</td>\n",
              "      <td>0.243750</td>\n",
              "      <td>24.000000</td>\n",
              "      <td>0.000000</td>\n",
              "    </tr>\n",
              "    <tr>\n",
              "      <th>50%</th>\n",
              "      <td>3.000000</td>\n",
              "      <td>117.000000</td>\n",
              "      <td>72.000000</td>\n",
              "      <td>23.000000</td>\n",
              "      <td>30.500000</td>\n",
              "      <td>32.000000</td>\n",
              "      <td>0.372500</td>\n",
              "      <td>29.000000</td>\n",
              "      <td>0.000000</td>\n",
              "    </tr>\n",
              "    <tr>\n",
              "      <th>75%</th>\n",
              "      <td>6.000000</td>\n",
              "      <td>140.250000</td>\n",
              "      <td>80.000000</td>\n",
              "      <td>32.000000</td>\n",
              "      <td>127.250000</td>\n",
              "      <td>36.600000</td>\n",
              "      <td>0.626250</td>\n",
              "      <td>41.000000</td>\n",
              "      <td>1.000000</td>\n",
              "    </tr>\n",
              "    <tr>\n",
              "      <th>max</th>\n",
              "      <td>17.000000</td>\n",
              "      <td>199.000000</td>\n",
              "      <td>122.000000</td>\n",
              "      <td>99.000000</td>\n",
              "      <td>846.000000</td>\n",
              "      <td>67.100000</td>\n",
              "      <td>2.420000</td>\n",
              "      <td>81.000000</td>\n",
              "      <td>1.000000</td>\n",
              "    </tr>\n",
              "  </tbody>\n",
              "</table>\n",
              "</div>"
            ],
            "text/plain": [
              "       Pregnancies     Glucose  ...         Age     Outcome\n",
              "count   768.000000  768.000000  ...  768.000000  768.000000\n",
              "mean      3.845052  120.894531  ...   33.240885    0.348958\n",
              "std       3.369578   31.972618  ...   11.760232    0.476951\n",
              "min       0.000000    0.000000  ...   21.000000    0.000000\n",
              "25%       1.000000   99.000000  ...   24.000000    0.000000\n",
              "50%       3.000000  117.000000  ...   29.000000    0.000000\n",
              "75%       6.000000  140.250000  ...   41.000000    1.000000\n",
              "max      17.000000  199.000000  ...   81.000000    1.000000\n",
              "\n",
              "[8 rows x 9 columns]"
            ]
          },
          "metadata": {},
          "execution_count": 55
        }
      ]
    },
    {
      "cell_type": "code",
      "metadata": {
        "colab": {
          "base_uri": "https://localhost:8080/"
        },
        "id": "UYTUN7k1oQpM",
        "outputId": "5026ae19-f9d1-4928-86e1-06d50b48c179"
      },
      "source": [
        "# Verificando o formato dos dados\n",
        "df_diabetes.shape"
      ],
      "execution_count": 56,
      "outputs": [
        {
          "output_type": "execute_result",
          "data": {
            "text/plain": [
              "(768, 9)"
            ]
          },
          "metadata": {},
          "execution_count": 56
        }
      ]
    },
    {
      "cell_type": "code",
      "metadata": {
        "colab": {
          "base_uri": "https://localhost:8080/"
        },
        "id": "oLloNKV5vTRr",
        "outputId": "a651bafc-9643-4a71-9c6c-6c96f96c1e6a"
      },
      "source": [
        "print(df_diabetes.info())"
      ],
      "execution_count": 57,
      "outputs": [
        {
          "output_type": "stream",
          "name": "stdout",
          "text": [
            "<class 'pandas.core.frame.DataFrame'>\n",
            "RangeIndex: 768 entries, 0 to 767\n",
            "Data columns (total 9 columns):\n",
            " #   Column                    Non-Null Count  Dtype  \n",
            "---  ------                    --------------  -----  \n",
            " 0   Pregnancies               768 non-null    int64  \n",
            " 1   Glucose                   768 non-null    int64  \n",
            " 2   BloodPressure             768 non-null    int64  \n",
            " 3   SkinThickness             768 non-null    int64  \n",
            " 4   Insulin                   768 non-null    int64  \n",
            " 5   BMI                       768 non-null    float64\n",
            " 6   DiabetesPedigreeFunction  768 non-null    float64\n",
            " 7   Age                       768 non-null    int64  \n",
            " 8   Outcome                   768 non-null    int64  \n",
            "dtypes: float64(2), int64(7)\n",
            "memory usage: 54.1 KB\n",
            "None\n"
          ]
        }
      ]
    },
    {
      "cell_type": "code",
      "metadata": {
        "id": "jVFS9TGkv1ek"
      },
      "source": [
        ""
      ],
      "execution_count": 57,
      "outputs": []
    },
    {
      "cell_type": "code",
      "metadata": {
        "id": "cdxWozKIo3P0"
      },
      "source": [
        "#Definição dos atributos que deverao ser treinados para gerar o modelo de classificacao\n",
        "data_treino = np.array(df_diabetes[['Pregnancies', 'Glucose', 'BloodPressure', 'SkinThickness', 'Insulin', 'BMI', 'DiabetesPedigreeFunction', 'Age']])\n",
        "#Definição do atributo de classificacao\n",
        "data_classif = np.array(df_diabetes['Outcome'])"
      ],
      "execution_count": 59,
      "outputs": []
    },
    {
      "cell_type": "code",
      "metadata": {
        "id": "x61psMhbvMPm"
      },
      "source": [
        ""
      ],
      "execution_count": 30,
      "outputs": []
    },
    {
      "cell_type": "code",
      "metadata": {
        "id": "_ONt7EYvq4jG"
      },
      "source": [
        "# Identificando a correlação entre as variáveis\n",
        "# Correlação não implica causalidade\n",
        "def plot_corr(df_diabetes, size=35):\n",
        "    corr = df_diabetes.corr()    \n",
        "    fig, ax = plt.subplots(figsize = (size, size))\n",
        "    ax.matshow(corr)  \n",
        "    plt.xticks(range(len(corr.columns)), corr.columns) \n",
        "    plt.yticks(range(len(corr.columns)), corr.columns) "
      ],
      "execution_count": 60,
      "outputs": []
    },
    {
      "cell_type": "code",
      "metadata": {
        "id": "gVf-H9QirZrl",
        "colab": {
          "base_uri": "https://localhost:8080/",
          "height": 1000
        },
        "outputId": "9ca09a2c-e300-4117-ba51-7bdbd3bbcc5e"
      },
      "source": [
        "# Criando o gráfico - Matriz de Correlação..\n",
        "plot_corr(df_diabetes)"
      ],
      "execution_count": 62,
      "outputs": [
        {
          "output_type": "display_data",
          "data": {
            "image/png": "[encoded data removed]",
            "text/plain": [
              "<Figure size 2520x2520 with 1 Axes>"
            ]
          },
          "metadata": {
            "needs_background": "light"
          }
        }
      ]
    },
    {
      "cell_type": "code",
      "metadata": {
        "id": "ibh74_FprrzV"
      },
      "source": [
        "# Spliting = 70% para dados de treino e 30% para dados de teste"
      ],
      "execution_count": 63,
      "outputs": []
    },
    {
      "cell_type": "code",
      "metadata": {
        "id": "0ZUI4arEsP_s",
        "colab": {
          "base_uri": "https://localhost:8080/",
          "height": 34
        },
        "outputId": "d51235fc-5e08-4b85-c8e7-072905415211"
      },
      "source": [
        "from IPython.display import Image\n",
        "Image('Treinamento.png')"
      ],
      "execution_count": 64,
      "outputs": [
        {
          "output_type": "execute_result",
          "data": {
            "image/png": "Treinamento.png",
            "text/plain": [
              "<IPython.core.display.Image object>"
            ]
          },
          "metadata": {},
          "execution_count": 64
        }
      ]
    },
    {
      "cell_type": "code",
      "metadata": {
        "id": "VOnKUSNasePl"
      },
      "source": [
        "#Definição dos conjuntos de treinamento e validação\n",
        "x_treino, x_val, y_treino, y_val = train_test_split(data_treino, data_classif, test_size=0.30)"
      ],
      "execution_count": 65,
      "outputs": []
    },
    {
      "cell_type": "code",
      "metadata": {
        "colab": {
          "base_uri": "https://localhost:8080/"
        },
        "id": "BmLifnz9soMs",
        "outputId": "431c587f-4c11-468f-f8b2-b11d990b5e34"
      },
      "source": [
        "#Apresentacao dos dados selecionados para o conjunto de treinamento e validacao\n",
        "print(\"-----------------------\")\n",
        "print(\"Conjunto de Treinamento\")\n",
        "print(x_treino)\n",
        "print(\"Conjunto de Validacao\")\n",
        "print(x_val)\n",
        "print(\"-----------------------\")"
      ],
      "execution_count": 66,
      "outputs": [
        {
          "output_type": "stream",
          "name": "stdout",
          "text": [
            "-----------------------\n",
            "Conjunto de Treinamento\n",
            "[[  0.    105.     68.    ...  20.      0.236  22.   ]\n",
            " [  1.     92.     62.    ...  19.5     0.482  25.   ]\n",
            " [  1.     88.     78.    ...  32.      0.365  29.   ]\n",
            " ...\n",
            " [  0.    123.     72.    ...  36.3     0.258  52.   ]\n",
            " [  2.    122.     70.    ...  36.8     0.34   27.   ]\n",
            " [  7.    129.     68.    ...  38.5     0.439  43.   ]]\n",
            "Conjunto de Validacao\n",
            "[[  1.    133.    102.    ...  32.8     0.234  45.   ]\n",
            " [  8.    197.     74.    ...  25.9     1.191  39.   ]\n",
            " [  3.    158.     64.    ...  31.2     0.295  24.   ]\n",
            " ...\n",
            " [  3.    129.     64.    ...  26.4     0.219  28.   ]\n",
            " [  0.     73.      0.    ...  21.1     0.342  25.   ]\n",
            " [  0.    146.     82.    ...  40.5     1.781  44.   ]]\n",
            "-----------------------\n"
          ]
        }
      ]
    },
    {
      "cell_type": "code",
      "metadata": {
        "id": "z06w5Tn_tA7M",
        "colab": {
          "base_uri": "https://localhost:8080/"
        },
        "outputId": "b9f9d3ec-87cb-4147-a466-2acc1cd5f528"
      },
      "source": [
        "# Imprimindo os resultados\n",
        "print(\"{0:0.2f}% nos dados de treino\".format((len(x_treino)/len(df_cancer_mama.index)) * 100))\n",
        "print(\"{0:0.2f}% nos dados de teste\".format((len(x_val)/len(df_cancer_mama.index)) * 100))"
      ],
      "execution_count": 67,
      "outputs": [
        {
          "output_type": "stream",
          "name": "stdout",
          "text": [
            "76.82% nos dados de treino\n",
            "33.05% nos dados de teste\n"
          ]
        }
      ]
    },
    {
      "cell_type": "code",
      "metadata": {
        "id": "hgaSUxU4tkRb"
      },
      "source": [
        "# Aplicando o Algoritmo com o Naive Bayes - GaussianNB. - Primeiro Algoritmo."
      ],
      "execution_count": 38,
      "outputs": []
    },
    {
      "cell_type": "code",
      "metadata": {
        "id": "hLyh38-35SBy"
      },
      "source": [
        "# Utilizando um classificador Naive Bayes\n",
        "from sklearn.naive_bayes import GaussianNB"
      ],
      "execution_count": 98,
      "outputs": []
    },
    {
      "cell_type": "code",
      "metadata": {
        "id": "9j_ZKEi3txRV",
        "colab": {
          "base_uri": "https://localhost:8080/"
        },
        "outputId": "58c0737e-5baa-4631-c61e-b6cb5dda1a83"
      },
      "source": [
        "# Treinamento do modelo com os dados atribuidos ao conjunto de treinamento\n",
        "modelo_NB = GaussianNB()\n",
        "modelo_NB.fit(x_treino, y_treino)"
      ],
      "execution_count": 99,
      "outputs": [
        {
          "output_type": "execute_result",
          "data": {
            "text/plain": [
              "GaussianNB(priors=None, var_smoothing=1e-09)"
            ]
          },
          "metadata": {},
          "execution_count": 99
        }
      ]
    },
    {
      "cell_type": "code",
      "metadata": {
        "id": "91u_j1rguFUN",
        "colab": {
          "base_uri": "https://localhost:8080/"
        },
        "outputId": "656d032e-e58d-4be1-dd98-6703cdf5adf6"
      },
      "source": [
        "# Treinando o modelo\n",
        "modelo_v1 = GaussianNB()\n",
        "modelo_v1.fit(x_treino, y_treino.ravel())"
      ],
      "execution_count": 100,
      "outputs": [
        {
          "output_type": "execute_result",
          "data": {
            "text/plain": [
              "GaussianNB(priors=None, var_smoothing=1e-09)"
            ]
          },
          "metadata": {},
          "execution_count": 100
        }
      ]
    },
    {
      "cell_type": "markdown",
      "metadata": {
        "id": "-JurnOB57ZAr"
      },
      "source": [
        "Tratando Valores Nulos ou Zerados.** **negrito**negrito**"
      ]
    },
    {
      "cell_type": "code",
      "metadata": {
        "id": "Ky_CEXEf9iw0"
      },
      "source": [
        "from sklearn.impute import SimpleImputer"
      ],
      "execution_count": 102,
      "outputs": []
    },
    {
      "cell_type": "code",
      "metadata": {
        "id": "zrZFR8Gf9rfz"
      },
      "source": [
        "# Criando objeto\n",
        "preenche_0 = SimpleImputer(missing_values = 0, strategy = \"mean\")\n",
        "\n",
        "# Substituindo os valores iguais a zero, pela média dos dados\n",
        "x_treino = preenche_0.fit_transform(x_treino)\n",
        "x_val = preenche_0.fit_transform(x_val)"
      ],
      "execution_count": 103,
      "outputs": []
    },
    {
      "cell_type": "markdown",
      "metadata": {
        "id": "Tx7Cedf33pso"
      },
      "source": [
        "## **Verificando a Exatidão no Modelo de Dados do GaussianNB.**"
      ]
    },
    {
      "cell_type": "code",
      "metadata": {
        "id": "hNlTtcaruS38"
      },
      "source": [
        "from sklearn import metrics"
      ],
      "execution_count": 104,
      "outputs": []
    },
    {
      "cell_type": "code",
      "metadata": {
        "colab": {
          "base_uri": "https://localhost:8080/"
        },
        "id": "DdUQv6cohza_",
        "outputId": "76ade024-06da-4a69-8cf1-6b0fcc75df80"
      },
      "source": [
        "nb_predict = modelo_NB.predict(x_val)\n",
        "\n",
        "print(metrics.classification_report(y_val, nb_predict))\n",
        "accuracy = metrics.accuracy_score(y_val, nb_predict)\n",
        "average_accuracy = np.mean(y_val == nb_predict) * 100\n",
        "print(\"The average_accuracy is - Base de Validação do modelo: {0:.1f}%\".format(average_accuracy))\n"
      ],
      "execution_count": 107,
      "outputs": [
        {
          "output_type": "stream",
          "name": "stdout",
          "text": [
            "              precision    recall  f1-score   support\n",
            "\n",
            "           0       0.82      0.78      0.80       159\n",
            "           1       0.56      0.62      0.59        72\n",
            "\n",
            "    accuracy                           0.73       231\n",
            "   macro avg       0.69      0.70      0.70       231\n",
            "weighted avg       0.74      0.73      0.74       231\n",
            "\n",
            "The average_accuracy is - Base de Validação do modelo: 73.2%\n"
          ]
        }
      ]
    },
    {
      "cell_type": "code",
      "metadata": {
        "id": "n9KLu3m4jIkN"
      },
      "source": [
        ""
      ],
      "execution_count": null,
      "outputs": []
    },
    {
      "cell_type": "markdown",
      "metadata": {
        "id": "nlLbsCIaAN6M"
      },
      "source": [
        "# **Métricas com Matriz de Confusão - Falso Positivo x Falso Negativo**"
      ]
    },
    {
      "cell_type": "code",
      "metadata": {
        "id": "yZFliDz1jfbt",
        "colab": {
          "base_uri": "https://localhost:8080/"
        },
        "outputId": "74d82e01-8c5c-4a89-fea0-549cfc5cfbb8"
      },
      "source": [
        "# Criando uma Confusion Matrix\n",
        "print(\"Confusion Matrix\")\n",
        "\n",
        "print(\"{0}\".format(metrics.confusion_matrix(y_val, nb_predict, labels = [1, 0])))\n",
        "print(\"\")\n",
        "\n",
        "print(\"Classification Report\")\n",
        "print(metrics.classification_report(y_val, nb_predict, labels = [1, 0]))"
      ],
      "execution_count": 109,
      "outputs": [
        {
          "output_type": "stream",
          "name": "stdout",
          "text": [
            "Confusion Matrix\n",
            "[[ 45  27]\n",
            " [ 35 124]]\n",
            "\n",
            "Classification Report\n",
            "              precision    recall  f1-score   support\n",
            "\n",
            "           1       0.56      0.62      0.59        72\n",
            "           0       0.82      0.78      0.80       159\n",
            "\n",
            "    accuracy                           0.73       231\n",
            "   macro avg       0.69      0.70      0.70       231\n",
            "weighted avg       0.74      0.73      0.74       231\n",
            "\n"
          ]
        }
      ]
    },
    {
      "cell_type": "markdown",
      "metadata": {
        "id": "am5di9teBABj"
      },
      "source": [
        "# **Otimizando o Modelo com Algoritmo: RANDON FOREST**"
      ]
    },
    {
      "cell_type": "code",
      "metadata": {
        "id": "iR-79e5gjidN"
      },
      "source": [
        "from sklearn.ensemble import RandomForestClassifier"
      ],
      "execution_count": 110,
      "outputs": []
    },
    {
      "cell_type": "code",
      "metadata": {
        "id": "jS5V9xsujlwd",
        "colab": {
          "base_uri": "https://localhost:8080/"
        },
        "outputId": "dfc02e5c-7547-4300-c0d5-7e75fbc6755a"
      },
      "source": [
        "modelo_v2 = RandomForestClassifier(random_state = 42)\n",
        "modelo_v2.fit(x_treino, y_treino.ravel())"
      ],
      "execution_count": 113,
      "outputs": [
        {
          "output_type": "execute_result",
          "data": {
            "text/plain": [
              "RandomForestClassifier(bootstrap=True, ccp_alpha=0.0, class_weight=None,\n",
              "                       criterion='gini', max_depth=None, max_features='auto',\n",
              "                       max_leaf_nodes=None, max_samples=None,\n",
              "                       min_impurity_decrease=0.0, min_impurity_split=None,\n",
              "                       min_samples_leaf=1, min_samples_split=2,\n",
              "                       min_weight_fraction_leaf=0.0, n_estimators=100,\n",
              "                       n_jobs=None, oob_score=False, random_state=42, verbose=0,\n",
              "                       warm_start=False)"
            ]
          },
          "metadata": {},
          "execution_count": 113
        }
      ]
    },
    {
      "cell_type": "code",
      "metadata": {
        "id": "7B93mKHhj7j9",
        "colab": {
          "base_uri": "https://localhost:8080/"
        },
        "outputId": "a3306fad-1f3f-4071-a8da-645eee56d4e8"
      },
      "source": [
        "# Verificando os dados de treino\n",
        "rf_predict_train = modelo_v2.predict(x_treino)\n",
        "print(\"Exatidão (Accuracy): {0:.4f}\".format(metrics.accuracy_score(y_treino, rf_predict_train)))"
      ],
      "execution_count": 114,
      "outputs": [
        {
          "output_type": "stream",
          "name": "stdout",
          "text": [
            "Exatidão (Accuracy): 1.0000\n"
          ]
        }
      ]
    },
    {
      "cell_type": "code",
      "metadata": {
        "colab": {
          "base_uri": "https://localhost:8080/"
        },
        "id": "-TwyZ8ESj7_9",
        "outputId": "4dfcfbec-8a07-4ae1-a14e-fd788319c300"
      },
      "source": [
        "# Verificando nos dados de teste\n",
        "rf_predict_test = modelo_v2.predict(x_val)\n",
        "print(\"Exatidão (Accuracy): {0:.4f}\".format(metrics.accuracy_score(y_val, rf_predict_test)))\n",
        "print()"
      ],
      "execution_count": 115,
      "outputs": [
        {
          "output_type": "stream",
          "name": "stdout",
          "text": [
            "Exatidão (Accuracy): 0.7532\n",
            "\n"
          ]
        }
      ]
    },
    {
      "cell_type": "code",
      "metadata": {
        "id": "huv4mb3rkBRN",
        "colab": {
          "base_uri": "https://localhost:8080/"
        },
        "outputId": "47175ad9-770f-488a-d1f5-01254d88b3c1"
      },
      "source": [
        "print(\"Confusion Matrix\")\n",
        "\n",
        "print(\"{0}\".format(metrics.confusion_matrix(y_val, rf_predict_test, labels = [1, 0])))\n",
        "print(\"\")\n",
        "\n",
        "print(\"Classification Report\")\n",
        "print(metrics.classification_report(y_val, rf_predict_test, labels = [1, 0]))"
      ],
      "execution_count": 116,
      "outputs": [
        {
          "output_type": "stream",
          "name": "stdout",
          "text": [
            "Confusion Matrix\n",
            "[[ 43  29]\n",
            " [ 28 131]]\n",
            "\n",
            "Classification Report\n",
            "              precision    recall  f1-score   support\n",
            "\n",
            "           1       0.61      0.60      0.60        72\n",
            "           0       0.82      0.82      0.82       159\n",
            "\n",
            "    accuracy                           0.75       231\n",
            "   macro avg       0.71      0.71      0.71       231\n",
            "weighted avg       0.75      0.75      0.75       231\n",
            "\n"
          ]
        }
      ]
    },
    {
      "cell_type": "markdown",
      "metadata": {
        "id": "GGKLkCseBzRC"
      },
      "source": [
        "# **Aplicando nova Otimização com a Regressão Logística**"
      ]
    },
    {
      "cell_type": "code",
      "metadata": {
        "id": "G0wez-rokQj9"
      },
      "source": [
        "from sklearn.linear_model import LogisticRegression"
      ],
      "execution_count": 117,
      "outputs": []
    },
    {
      "cell_type": "code",
      "metadata": {
        "colab": {
          "base_uri": "https://localhost:8080/"
        },
        "id": "qFqJ7U9tkVZd",
        "outputId": "a2b3a78b-d1a1-4290-9166-1248c752e59a"
      },
      "source": [
        "# Terceira versão do modelo usando Regressão Logística\n",
        "modelo_v3 = LogisticRegression(C = 0.7, random_state = 42)\n",
        "modelo_v3.fit(x_treino, y_treino.ravel())\n",
        "lr_predict_test = modelo_v3.predict(x_val)"
      ],
      "execution_count": 119,
      "outputs": [
        {
          "output_type": "stream",
          "name": "stderr",
          "text": [
            "/usr/local/lib/python3.7/dist-packages/sklearn/linear_model/_logistic.py:940: ConvergenceWarning: lbfgs failed to converge (status=1):\n",
            "STOP: TOTAL NO. of ITERATIONS REACHED LIMIT.\n",
            "\n",
            "Increase the number of iterations (max_iter) or scale the data as shown in:\n",
            "    https://scikit-learn.org/stable/modules/preprocessing.html\n",
            "Please also refer to the documentation for alternative solver options:\n",
            "    https://scikit-learn.org/stable/modules/linear_model.html#logistic-regression\n",
            "  extra_warning_msg=_LOGISTIC_SOLVER_CONVERGENCE_MSG)\n"
          ]
        }
      ]
    },
    {
      "cell_type": "code",
      "metadata": {
        "colab": {
          "base_uri": "https://localhost:8080/"
        },
        "id": "uTSgJQdukcrt",
        "outputId": "858af9b3-c2a0-4d88-c000-e3d1667aab02"
      },
      "source": [
        "print(\"Exatidão (Accuracy): na Base de Teste {0:.4f}\".format(metrics.accuracy_score(y_val, lr_predict_test)))\n",
        "print()\n",
        "print(\"Classification Report\")\n",
        "print(metrics.classification_report(y_val, lr_predict_test, labels = [1, 0]))"
      ],
      "execution_count": 120,
      "outputs": [
        {
          "output_type": "stream",
          "name": "stdout",
          "text": [
            "Exatidão (Accuracy): na Base de Teste 0.7446\n",
            "\n",
            "Classification Report\n",
            "              precision    recall  f1-score   support\n",
            "\n",
            "           1       0.60      0.54      0.57        72\n",
            "           0       0.80      0.84      0.82       159\n",
            "\n",
            "    accuracy                           0.74       231\n",
            "   macro avg       0.70      0.69      0.69       231\n",
            "weighted avg       0.74      0.74      0.74       231\n",
            "\n"
          ]
        }
      ]
    },
    {
      "cell_type": "code",
      "metadata": {
        "id": "oSFhyFCbktWN"
      },
      "source": [
        "### Resumindo\n",
        "## Exatidão nos dados de teste (Validação do Modelo de Machine Learning)\n",
        "\n",
        "# Modelo usando algoritmo Naive Bayes           = 0.7320\n",
        "# Modelo usando algoritmo Random Forest         = 0.7532\n",
        "# Modelo usando algoritmo Regressão Logística   = 0.7446"
      ],
      "execution_count": null,
      "outputs": []
    }
  ]
}