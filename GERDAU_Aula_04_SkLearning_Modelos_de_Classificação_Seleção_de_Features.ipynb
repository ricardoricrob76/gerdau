{
  "nbformat": 4,
  "nbformat_minor": 0,
  "metadata": {
    "colab": {
      "name": "GERDAU - Aula 04 - SkLearning - Modelos de Classificação - Seleção de Features.ipynb",
      "provenance": [],
      "collapsed_sections": [],
      "authorship_tag": "ABX9TyMlL84WlCBO6LQv/BrGiZzU",
      "include_colab_link": true
    },
    "kernelspec": {
      "name": "python3",
      "display_name": "Python 3"
    },
    "language_info": {
      "name": "python"
    }
  },
  "cells": [
    {
      "cell_type": "markdown",
      "metadata": {
        "id": "view-in-github",
        "colab_type": "text"
      },
      "source": [
        "<a href=\"https://colab.research.google.com/github/ricardoricrob76/gerdau/blob/main/GERDAU_Aula_04_SkLearning_Modelos_de_Classifica%C3%A7%C3%A3o_Sele%C3%A7%C3%A3o_de_Features.ipynb\" target=\"_parent\"><img src=\"https://colab.research.google.com/assets/colab-badge.svg\" alt=\"Open In Colab\"/></a>"
      ]
    },
    {
      "cell_type": "code",
      "metadata": {
        "id": "vqLIS7WQlQ8b"
      },
      "source": [
        "# GERDAU - Treinamento InCompany\n",
        "# Autor:  Profº - Ricardo Roberto de Lima - FABWORK\n",
        "# Ciência de Dados com Python + Pandas, Numpy, SkLearning. Diabetes\n",
        "# Machine Learning - Aula 04 - Modelos de Classificação - Seleção de Features.\n",
        "#  - Seleção das Melhores Features em uma base pa."
      ],
      "execution_count": null,
      "outputs": []
    },
    {
      "cell_type": "code",
      "metadata": {
        "id": "zRd__t-gn_mV"
      },
      "source": [
        "import pandas as pd\n",
        "import numpy as np\n",
        "from sklearn.feature_selection import SelectKBest, chi2\n",
        "\n",
        "# Adaptar para o Ambiente da GERDAU.\n",
        "# import awswrangler as wr\n",
        "\n",
        "# import boto3\n",
        "# boto3.setup_default_session(region_name=\"us-east-2\")"
      ],
      "execution_count": null,
      "outputs": []
    },
    {
      "cell_type": "code",
      "metadata": {
        "id": "e9BgMIISgM1J"
      },
      "source": [
        "data = pd.read_csv(\"train.csv\")\n",
        "\n",
        "# Criar um Objeto do tipo DataFrame no Ambiente Big Data - Gerdau\n",
        "# data=wr.s3.read_csv('s3://gerdau-analytics/gdata/datascience/train.csv')\n",
        "\n",
        "X = data.iloc[:,0:20]  #independent columns\n",
        "y = data.iloc[:,-1]    #target column i.e price range\n",
        "#apply SelectKBest class to extract top 10 best features"
      ],
      "execution_count": null,
      "outputs": []
    },
    {
      "cell_type": "code",
      "metadata": {
        "colab": {
          "base_uri": "https://localhost:8080/"
        },
        "id": "ZIhf2MkfgPcI",
        "outputId": "d1d3fc22-2375-4f8b-a4e5-3f39bc1d805f"
      },
      "source": [
        "bestfeatures = SelectKBest(score_func=chi2, k=10)\n",
        "fit = bestfeatures.fit(X,y)\n",
        "dfscores = pd.DataFrame(fit.scores_)\n",
        "dfcolumns = pd.DataFrame(X.columns)\n",
        "\n",
        "#concat two dataframes for better visualization \n",
        "featureScores = pd.concat([dfcolumns,dfscores],axis=1)\n",
        "\n",
        "featureScores.columns = ['Specs','Score']  #naming the dataframe columns\n",
        "\n",
        "print(featureScores.nlargest(10,'Score'))  #print 10 best features"
      ],
      "execution_count": null,
      "outputs": [
        {
          "output_type": "stream",
          "name": "stdout",
          "text": [
            "            Specs          Score\n",
            "13            ram  931267.519053\n",
            "11      px_height   17363.569536\n",
            "0   battery_power   14129.866576\n",
            "12       px_width    9810.586750\n",
            "8       mobile_wt      95.972863\n",
            "6      int_memory      89.839124\n",
            "15           sc_w      16.480319\n",
            "16      talk_time      13.236400\n",
            "4              fc      10.135166\n",
            "14           sc_h       9.614878\n"
          ]
        }
      ]
    },
    {
      "cell_type": "code",
      "metadata": {
        "id": "3pZXm2-VgZcp"
      },
      "source": [
        ""
      ],
      "execution_count": null,
      "outputs": []
    }
  ]
}